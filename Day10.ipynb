{
 "cells": [
  {
   "cell_type": "markdown",
   "metadata": {},
   "source": [
    "# Advent of Code 2017: [Day 10](http://adventofcode.com/2017/day/10)\n",
    "\n",
    "## Problem statement\n",
    "\n",
    ">You come across some programs that are trying to implement a software emulation of a hash based on knot-tying. The hash these programs are implementing isn't very strong, but you decide to help them anyway. You make a mental note to remind the Elves later not to invent their own cryptographic functions.\n",
    "\n",
    ">This hash function simulates tying a knot in a circle of string with 256 marks on it. Based on the input to be hashed, the function repeatedly selects a span of string, brings the ends together, and gives the span a half-twist to reverse the order of the marks within it. After doing this many times, the order of the marks is used to build the resulting hash.\n",
    "\n",
    ">  4--5   pinch   4  5           4   1\n",
    "\n",
    "> /    \\  5,0,1  / \\/ \\  twist  / \\ / \\\n",
    "\n",
    ">3      0  -->  3      0  -->  3   X   0\n",
    "\n",
    "> \\    /         \\ /\\ /         \\ / \\ /\n",
    "\n",
    ">  2--1           2  1           2   5\n",
    "\n",
    ">To achieve this, begin with a list of numbers from 0 to 255, a current position which begins at 0 (the first element in the list), a skip size (which starts at 0), and a sequence of lengths (your puzzle input).  Then, for each length:\n",
    "\n",
    ">Reverse the order of that length of elements in the list, starting with the element at the current position.\n",
    "\n",
    ">Move the current position forward by that length plus the skip size.\n",
    "\n",
    ">Increase the skip size by one.\n",
    "\n",
    ">The list is circular; if the current position and the length try to reverse elements beyond the end of the list, the operation reverses using as many extra elements as it needs from the front of the list. If the current position moves past the end of the list, it wraps around to the front. Lengths larger than the size of the list are invalid.\n",
    "\n",
    ">Here's an example using a smaller list:\n",
    "\n",
    ">Suppose we instead only had a circular list containing five elements, 0, 1, 2, 3, 4, and were given input lengths of 3, 4, 1, 5.\n",
    "\n",
    ">The list begins as [0] 1 2 3 4 (where square brackets indicate the current position).\n",
    "\n",
    ">The first length, 3, selects ([0] 1 2) 3 4 (where parentheses indicate the sublist to be reversed).\n",
    "\n",
    ">After reversing that section (0 1 2 into 2 1 0), we get ([2] 1 0) 3 4.\n",
    "\n",
    ">Then, the current position moves forward by the length, 3, plus the skip size, 0: 2 1 0 [3] 4. Finally, the skip size increases to 1.\n",
    "\n",
    ">The second length, 4, selects a section which wraps: 2 1) 0 ([3] 4.\n",
    "\n",
    ">The sublist 3 4 2 1 is reversed to form 1 2 4 3: 4 3) 0 ([1] 2.\n",
    "\n",
    ">The current position moves forward by the length plus the skip size, a total of 5, causing it not to move because it wraps around: 4 3 0 [1] 2. The skip size increases to 2.\n",
    "\n",
    ">The third length, 1, selects a sublist of a single element, and so reversing it has no effect.\n",
    "\n",
    ">The current position moves forward by the length (1) plus the skip size (2): 4 [3] 0 1 2. The skip size increases to 3.\n",
    "\n",
    ">The fourth length, 5, selects every element starting with the second: 4) ([3] 0 1 2. Reversing this sublist (3 0 1 2 4 into 4 2 1 0 3) produces: 3) ([4] 2 1 0.\n",
    "\n",
    ">Finally, the current position moves forward by 8: 3 4 2 1 [0]. The skip size increases to 4.\n",
    "\n",
    ">In this example, the first two numbers in the list end up being 3 and 4; to check the process, you can multiply them together to produce 12.\n",
    "\n",
    ">However, you should instead use the standard list size of 256 (with values 0 to 255) and the sequence of lengths in your puzzle input. Once this process is complete, what is the result of multiplying the first two numbers in the list?\n",
    "\n",
    "## Breaking down the problem\n",
    "- **Task**:\n",
    "- <font color='green'>Input</font>:\n",
    "- <font color='blue'>Process the data</font>:\n",
    "- <font color='red'>Compute</font>:"
   ]
  },
  {
   "cell_type": "markdown",
   "metadata": {},
   "source": [
    "## Implementation"
   ]
  },
  {
   "cell_type": "code",
   "execution_count": 4,
   "metadata": {
    "collapsed": true
   },
   "outputs": [],
   "source": [
    "from itertools import islice\n",
    "\n",
    "def reverse(sequence, start, length):\n",
    "    indices = [i % len(sequence) for i in range(start, start + length)]\n",
    "    pairs = zip(indices, reversed(indices))\n",
    "\n",
    "    for i, j in islice(pairs, length // 2):\n",
    "        sequence[j], sequence[i] = sequence[i], sequence[j]"
   ]
  },
  {
   "cell_type": "code",
   "execution_count": 5,
   "metadata": {
    "collapsed": true
   },
   "outputs": [],
   "source": [
    "def twists(circle, lengths, position=0, skip_size=0):\n",
    "    while True:\n",
    "        for length in lengths:\n",
    "            reverse(circle, position, length)\n",
    "            position += length + skip_size\n",
    "            skip_size += 1\n",
    "        yield"
   ]
  },
  {
   "cell_type": "markdown",
   "metadata": {},
   "source": [
    "## Check against test cases"
   ]
  },
  {
   "cell_type": "code",
   "execution_count": 6,
   "metadata": {},
   "outputs": [
    {
     "name": "stdout",
     "output_type": "stream",
     "text": [
      "12\n"
     ]
    }
   ],
   "source": [
    "circle = list(range(5))\n",
    "lengths = [3, 4, 1, 5]\n",
    "\n",
    "next(twists(circle, lengths))\n",
    "\n",
    "print(circle[0] * circle[1])"
   ]
  },
  {
   "cell_type": "markdown",
   "metadata": {},
   "source": [
    "## Solve problem"
   ]
  },
  {
   "cell_type": "code",
   "execution_count": 7,
   "metadata": {},
   "outputs": [
    {
     "name": "stdout",
     "output_type": "stream",
     "text": [
      "6909\n"
     ]
    }
   ],
   "source": [
    "circle = list(range(256))\n",
    "lengths = [106,118,236,1,130,0,235,254,59,205,2,87,129,25,255,118]\n",
    "\n",
    "next(twists(circle, lengths))\n",
    "    \n",
    "print(circle[0] * circle[1])"
   ]
  },
  {
   "cell_type": "markdown",
   "metadata": {},
   "source": [
    "# Part 2"
   ]
  },
  {
   "cell_type": "code",
   "execution_count": 8,
   "metadata": {
    "collapsed": true
   },
   "outputs": [],
   "source": [
    "from functools import reduce\n",
    "from operator import xor\n",
    "\n",
    "def blocks(sequence, length=16):\n",
    "    for i in range(0, len(sequence), length):\n",
    "        yield sequence[i:(i + length)]\n",
    "        \n",
    "def knot_hash(string):\n",
    "    circle = list(range(256))\n",
    "    lengths = [ord(digit) for digit in string] + [17, 31, 73, 47, 23]\n",
    "\n",
    "    rounds = twists(circle, lengths)\n",
    "    for _ in range(64): next(rounds)\n",
    "\n",
    "    sparse_hash = circle\n",
    "    dense_hash = [reduce(xor, block) for block in blocks(sparse_hash, 16)]\n",
    "    return ''.join(format(number, '02x') for number in dense_hash)"
   ]
  },
  {
   "cell_type": "markdown",
   "metadata": {},
   "source": [
    "## Check against test cases"
   ]
  },
  {
   "cell_type": "code",
   "execution_count": 9,
   "metadata": {
    "collapsed": true
   },
   "outputs": [],
   "source": [
    "assert knot_hash('')         == 'a2582a3a0e66e6e86e3812dcb672a272'\n",
    "assert knot_hash('AoC 2017') == '33efeb34ea91902bb2f59c9920caa6cd'\n",
    "assert knot_hash('1,2,3')    == '3efbe78a8d82f29979031a4aa0b16a9d'\n",
    "assert knot_hash('1,2,4')    == '63960835bcdc130f0b66d7ff4f6a5a8e'"
   ]
  },
  {
   "cell_type": "code",
   "execution_count": 10,
   "metadata": {},
   "outputs": [
    {
     "name": "stdout",
     "output_type": "stream",
     "text": [
      "9d5f4561367d379cfbf04f8c471c0095\n"
     ]
    }
   ],
   "source": [
    "circle = list(range(256))\n",
    "string = '106,118,236,1,130,0,235,254,59,205,2,87,129,25,255,118'\n",
    "\n",
    "print(knot_hash(string))"
   ]
  }
 ],
 "metadata": {
  "kernelspec": {
   "display_name": "Python 3",
   "language": "python",
   "name": "python3"
  },
  "language_info": {
   "codemirror_mode": {
    "name": "ipython",
    "version": 3
   },
   "file_extension": ".py",
   "mimetype": "text/x-python",
   "name": "python",
   "nbconvert_exporter": "python",
   "pygments_lexer": "ipython3",
   "version": "3.6.2"
  }
 },
 "nbformat": 4,
 "nbformat_minor": 2
}
