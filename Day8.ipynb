{
 "cells": [
  {
   "cell_type": "markdown",
   "metadata": {},
   "source": [
    "# Advent of Code 2017: [Day 8](http://adventofcode.com/2017/day/8)\n",
    "\n",
    "## Problem statement\n",
    "\n",
    ">You receive a signal directly from the CPU. Because of your recent assistance with jump instructions, it would like you to compute the result of a series of unusual register instructions.\n",
    "\n",
    ">Each instruction consists of several parts: the register to modify, whether to increase or decrease that register's value, the amount by which to increase or decrease it, and a condition. If the condition fails, skip the instruction without modifying the register. The registers all start at 0. The instructions look like this:\n",
    " \n",
    ">1. `b inc 5 if a > 1`\n",
    "\n",
    ">1. `a inc 1 if b < 5`\n",
    "\n",
    ">1. `c dec -10 if a >= 1`\n",
    "\n",
    ">1. `c inc -20 if c == 10`\n",
    "\n",
    ">These instructions would be processed as follows:\n",
    "\n",
    ">1. Because a starts at 0, it is not greater than 1, and so b is not modified.\n",
    "\n",
    ">1. a is increased by 1 (to 1) because b is less than 5 (it is 0).\n",
    "\n",
    ">1. c is decreased by -10 (to 10) because a is now greater than or equal to 1 (it is 1).\n",
    "\n",
    ">1. c is increased by -20 (to -10) because c is equal to 10.\n",
    "\n",
    ">After this process, the largest value in any register is 1.\n",
    "\n",
    ">You might also encounter `<=` (less than or equal to) or `!=` (not equal to). However, the CPU doesn't have the bandwidth to tell you what all the registers are named, and leaves that to you to determine.\n",
    "\n",
    ">**What is the largest value in any register after completing the instructions in your puzzle input?**\n",
    "\n",
    "## Breaking down the problem\n",
    "- **Task**:\n",
    "- <font color='green'>Input</font>:\n",
    "- <font color='blue'>Process the data</font>:\n",
    "- <font color='red'>Compute</font>:"
   ]
  },
  {
   "cell_type": "markdown",
   "metadata": {},
   "source": [
    "## Implementation"
   ]
  },
  {
   "cell_type": "code",
   "execution_count": 5,
   "metadata": {},
   "outputs": [],
   "source": [
    "from collections import Counter\n",
    "from operator import add, sub, gt, lt, ge, le, eq, ne\n",
    "\n",
    "dictionary = {'inc': add, 'dec': sub, '>': gt, '<': lt, '>=': ge, '<=': le, '==': eq, '!=': ne}\n",
    "def compile(string): return dictionary[string] if string in dictionary else string\n",
    "\n",
    "def execute(instruction, registers):\n",
    "    r1, math, v1, _, r2, comparison, v2 = map(compile, instruction.split())\n",
    "    if comparison(registers[r2], int(v2)):\n",
    "        registers[r1] = math(registers[r1], int(v1))\n",
    "            \n",
    "def run(instructions):\n",
    "    registers = Counter()\n",
    "    for instruction in instructions.strip().split('\\n'):\n",
    "        execute(instruction, registers)\n",
    "    return max(registers.values())"
   ]
  },
  {
   "cell_type": "code",
   "execution_count": 6,
   "metadata": {},
   "outputs": [
    {
     "name": "stdout",
     "output_type": "stream",
     "text": [
      "1\n"
     ]
    }
   ],
   "source": [
    "example = '''\n",
    "b inc 5 if a > 1\n",
    "a inc 1 if b < 5\n",
    "c dec -10 if a >= 1\n",
    "c inc -20 if c == 10\n",
    "'''\n",
    "\n",
    "print(run(example))"
   ]
  },
  {
   "cell_type": "markdown",
   "metadata": {},
   "source": [
    "## Check against test cases"
   ]
  },
  {
   "cell_type": "markdown",
   "metadata": {},
   "source": [
    "## Solve problem"
   ]
  },
  {
   "cell_type": "code",
   "execution_count": 7,
   "metadata": {},
   "outputs": [
    {
     "name": "stdout",
     "output_type": "stream",
     "text": [
      "6611\n"
     ]
    }
   ],
   "source": [
    "with open('day8_input.txt') as f:\n",
    "    program = f.read()\n",
    "    \n",
    "print(run(program))"
   ]
  },
  {
   "cell_type": "code",
   "execution_count": 8,
   "metadata": {},
   "outputs": [
    {
     "name": "stdout",
     "output_type": "stream",
     "text": [
      "(6611, 6619)\n"
     ]
    }
   ],
   "source": [
    "def run(instructions):\n",
    "    registers = Counter()\n",
    "    max_value = 0\n",
    "    for instruction in instructions.strip().split('\\n'):\n",
    "        execute(instruction, registers)\n",
    "        max_value = max(max_value, max(registers.values()))\n",
    "    return max(registers.values()), max_value\n",
    "\n",
    "print(run(program))"
   ]
  }
 ],
 "metadata": {
  "kernelspec": {
   "display_name": "Python 3",
   "language": "python",
   "name": "python3"
  },
  "language_info": {
   "codemirror_mode": {
    "name": "ipython",
    "version": 3
   },
   "file_extension": ".py",
   "mimetype": "text/x-python",
   "name": "python",
   "nbconvert_exporter": "python",
   "pygments_lexer": "ipython3",
   "version": "3.6.2"
  }
 },
 "nbformat": 4,
 "nbformat_minor": 2
}
