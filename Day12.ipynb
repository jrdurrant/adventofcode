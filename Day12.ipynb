{
 "cells": [
  {
   "cell_type": "markdown",
   "metadata": {},
   "source": [
    "# Advent of Code 2017: [Day 12](http://adventofcode.com/2017/day/12)\n",
    "\n",
    "## Problem statement\n",
    "\n",
    ">Walking along the memory banks of the stream, you find a small village that is experiencing a little confusion: some programs can't communicate with each other.\n",
    "\n",
    ">Programs in this village communicate using a fixed system of pipes. Messages are passed between programs using these pipes, but most programs aren't connected to each other directly.  Instead, programs pass messages between each other until the message reaches the intended recipient.\n",
    "\n",
    ">For some reason, though, some of these messages aren't ever reaching their intended recipient, and the programs suspect that some pipes are missing. They would like you to investigate.\n",
    "\n",
    ">You walk through the village and record the ID of each program and the IDs with which it can communicate directly (your puzzle input). Each program has one or more programs with which it can communicate, and these pipes are bidirectional; if 8 says it can communicate with 11, then 11 will say it can communicate with 8.\n",
    "\n",
    ">You need to figure out how many programs are in the group that contains program ID 0.\n",
    "\n",
    ">For example, suppose you go door-to-door like a travelling salesman and record the following list:\n",
    "\n",
    ">0 <-> 2\n",
    "\n",
    ">1 <-> 1\n",
    "\n",
    ">2 <-> 0, 3, 4\n",
    "\n",
    ">3 <-> 2, 4\n",
    "\n",
    ">4 <-> 2, 3, 6\n",
    "\n",
    ">5 <-> 6\n",
    "\n",
    ">6 <-> 4, 5\n",
    "\n",
    ">In this example, the following programs are in the group that contains program ID 0:\n",
    "\n",
    ">Program 0 by definition.\n",
    "\n",
    ">Program 2, directly connected to program 0.\n",
    "\n",
    ">Program 3 via program 2.\n",
    "\n",
    ">Program 4 via program 2.\n",
    "\n",
    ">Program 5 via programs 6, then 4, then 2.\n",
    "\n",
    ">Program 6 via programs 4, then 2.\n",
    "\n",
    ">Therefore, a total of 6 programs are in this group; all but program 1, which has a pipe that connects it to itself.\n",
    "\n",
    ">How many programs are in the group that contains program ID 0?\n",
    "\n",
    "## Breaking down the problem\n",
    "- **Task**:\n",
    "- <font color='green'>Input</font>:\n",
    "- <font color='blue'>Process the data</font>:\n",
    "- <font color='red'>Compute</font>:"
   ]
  },
  {
   "cell_type": "markdown",
   "metadata": {},
   "source": [
    "## Implementation"
   ]
  },
  {
   "cell_type": "code",
   "execution_count": 119,
   "metadata": {
    "collapsed": true
   },
   "outputs": [],
   "source": [
    "from collections import defaultdict\n",
    "\n",
    "class nodedict(defaultdict):\n",
    "    def __missing__(self, key):\n",
    "        ret = self[key] = set([key])\n",
    "        return ret\n",
    "\n",
    "def build_groups(connections):\n",
    "    groups = nodedict()\n",
    "\n",
    "    for node, *neighbours in connections:\n",
    "        merged_group = set.union(groups[node], *(groups[neighbour] for neighbour in neighbours))\n",
    "\n",
    "        for union_node in merged_group:\n",
    "            groups[union_node] = merged_group\n",
    "\n",
    "    return groups"
   ]
  },
  {
   "cell_type": "code",
   "execution_count": 120,
   "metadata": {
    "collapsed": true
   },
   "outputs": [],
   "source": [
    "def parse(string):\n",
    "    return [map(int, line.replace(' <->', '').replace(',', '').split())\n",
    "            for line in string.split('\\n')]"
   ]
  },
  {
   "cell_type": "markdown",
   "metadata": {},
   "source": [
    "## Check against test cases"
   ]
  },
  {
   "cell_type": "code",
   "execution_count": 121,
   "metadata": {
    "collapsed": true
   },
   "outputs": [],
   "source": [
    "string = '''\n",
    "0 <-> 2\n",
    "1 <-> 1\n",
    "2 <-> 0, 3, 4\n",
    "3 <-> 2, 4\n",
    "4 <-> 2, 3, 6\n",
    "5 <-> 6\n",
    "6 <-> 4, 5\n",
    "'''\n",
    "\n",
    "assert len(build_groups(parse(string.strip()))[0]) == 6"
   ]
  },
  {
   "cell_type": "markdown",
   "metadata": {},
   "source": [
    "## Solve problem"
   ]
  },
  {
   "cell_type": "code",
   "execution_count": 122,
   "metadata": {
    "scrolled": true
   },
   "outputs": [
    {
     "name": "stdout",
     "output_type": "stream",
     "text": [
      "141\n",
      "171\n"
     ]
    }
   ],
   "source": [
    "with open('day12_input.txt') as f:\n",
    "    string = f.read()\n",
    "\n",
    "groups = build_groups(parse(string.strip()))\n",
    "print(len(groups[0]))\n",
    "print(len(set(tuple(group) for group in groups.values())))"
   ]
  }
 ],
 "metadata": {
  "kernelspec": {
   "display_name": "Python 3",
   "language": "python",
   "name": "python3"
  },
  "language_info": {
   "codemirror_mode": {
    "name": "ipython",
    "version": 3
   },
   "file_extension": ".py",
   "mimetype": "text/x-python",
   "name": "python",
   "nbconvert_exporter": "python",
   "pygments_lexer": "ipython3",
   "version": "3.6.2"
  }
 },
 "nbformat": 4,
 "nbformat_minor": 2
}
