{
 "cells": [
  {
   "cell_type": "markdown",
   "metadata": {},
   "source": [
    "# Advent of Code 2017: [Day 5](http://adventofcode.com/2017/day/5)\n",
    "\n",
    "## Problem statement\n",
    "\n",
    ">An urgent interrupt arrives from the CPU: it's trapped in a maze of jump instructions, and it would like assistance from any programs with spare cycles to help find the exit.\n",
    "\n",
    ">The message includes a <font color='green'>list of the offsets</font> for each jump. <font color='blue'>Jumps are relative</font>: -1 moves to the previous instruction, and 2 skips the next one. <font color='blue'>Start at the first instruction</font> in the list. The goal is to <font color='red'>follow the jumps until one leads outside the list</font>.\n",
    "\n",
    ">In addition, these instructions are a little strange; <font color='red'>after each jump, the offset of that instruction increases by 1</font>. So, if you come across an offset of 3, you would move three instructions forward, but change it to a 4 for the next time it is encountered.\n",
    "\n",
    ">For example, consider the following list of jump offsets:\n",
    "\n",
    "> |    |\n",
    "  |----|\n",
    "  |  0 |\n",
    "  |  3 |\n",
    "  |  0 |\n",
    "  |  1 |\n",
    "  | -3 |\n",
    "\n",
    ">Positive jumps (\"forward\") move downward; negative jumps move upward. For legibility in this example, these offset values will be written all on one line, with the current instruction marked in parentheses. The following steps would be taken before an exit is found:\n",
    "\n",
    "> `(0) 3  0  1  -3 ` - before we have taken any steps.\n",
    "\n",
    "> `(1) 3  0  1  -3 ` - jump with offset 0 (that is, don't jump at all). Fortunately, the instruction is then incremented to 1.\n",
    "\n",
    "> ` 2 (3) 0  1  -3 ` - step forward because of the instruction we just modified. The first instruction is incremented again, now to 2.\n",
    "\n",
    "> ` 2  4  0  1 (-3)` - jump all the way to the end; leave a 4 behind.\n",
    "\n",
    "> ` 2 (4) 0  1  -2 ` - go back to where we just were; increment -3 to -2.\n",
    "\n",
    "> ` 2  5  0  1  -2 ` - jump 4 steps forward, escaping the maze.\n",
    "\n",
    ">In this example, the exit is reached in 5 steps.\n",
    "\n",
    ">**How many steps does it take to reach the exit?**\n",
    "\n",
    "## Breaking down the problem\n",
    "- **Task**: Count how many steps from the first instruction until a jump takes you outside the list\n",
    "- <font color='green'>Input</font>: A list of offsets\n",
    "- <font color='blue'>Data format</font>: Jumps are *relative* to current position\n",
    "- <font color='red'>Check offset</font>: Check whether the jump goes to a location inside the list or not\n",
    "- <font color='red'>Follow jumps</font>: Keep following until the check fails, \n",
    "- <font color='red'>Output</font>: Record the number of steps taken so far"
   ]
  },
  {
   "cell_type": "markdown",
   "metadata": {},
   "source": [
    "## Implementation"
   ]
  },
  {
   "cell_type": "code",
   "execution_count": 3,
   "metadata": {},
   "outputs": [],
   "source": [
    "def run_instructions(jump_list):\n",
    "    position = num_steps = 0\n",
    "    list_length = len(jump_list)\n",
    "\n",
    "    while 0 <= position < list_length:\n",
    "        instruction = jump_list[position]\n",
    "        jump_list[position] += 1\n",
    "        position += instruction\n",
    "        num_steps += 1\n",
    "        \n",
    "    return num_steps"
   ]
  },
  {
   "cell_type": "markdown",
   "metadata": {},
   "source": [
    "## Check against test case"
   ]
  },
  {
   "cell_type": "code",
   "execution_count": 4,
   "metadata": {
    "scrolled": false
   },
   "outputs": [
    {
     "name": "stdout",
     "output_type": "stream",
     "text": [
      "5\n"
     ]
    }
   ],
   "source": [
    "jump_list = [0, 3, 0, 1, -3]\n",
    "\n",
    "print(run_instructions(jump_list))"
   ]
  },
  {
   "cell_type": "markdown",
   "metadata": {},
   "source": [
    "## Solve problem"
   ]
  },
  {
   "cell_type": "code",
   "execution_count": 5,
   "metadata": {},
   "outputs": [
    {
     "name": "stdout",
     "output_type": "stream",
     "text": [
      "376976\n"
     ]
    }
   ],
   "source": [
    "with open('day5_input.txt') as f:\n",
    "    jump_list = list(map(int, f.read().split()))\n",
    "    \n",
    "print(run_instructions(jump_list))"
   ]
  },
  {
   "cell_type": "markdown",
   "metadata": {},
   "source": [
    "For **part two**"
   ]
  },
  {
   "cell_type": "code",
   "execution_count": 6,
   "metadata": {},
   "outputs": [
    {
     "name": "stdout",
     "output_type": "stream",
     "text": [
      "10\n"
     ]
    }
   ],
   "source": [
    "def run_instructions(jump_list):\n",
    "    position = num_steps = 0\n",
    "    list_length = len(jump_list)\n",
    "\n",
    "    while 0 <= position < list_length:\n",
    "        instruction = jump_list[position]\n",
    "        jump_list[position] += 1 if instruction < 3 else -1\n",
    "        position += instruction\n",
    "        num_steps += 1\n",
    "        \n",
    "    return num_steps\n",
    "\n",
    "jump_list = [0, 3, 0, 1, -3]\n",
    "\n",
    "print(run_instructions(jump_list))"
   ]
  },
  {
   "cell_type": "code",
   "execution_count": 7,
   "metadata": {},
   "outputs": [
    {
     "name": "stdout",
     "output_type": "stream",
     "text": [
      "29227751\n",
      " "
     ]
    }
   ],
   "source": [
    "with open('day5_input.txt') as f:\n",
    "    jump_list = [int(number) for number in f.read().split()]\n",
    "    \n",
    "%prun print(run_instructions(jump_list))"
   ]
  }
 ],
 "metadata": {
  "kernelspec": {
   "display_name": "Python 3",
   "language": "python",
   "name": "python3"
  },
  "language_info": {
   "codemirror_mode": {
    "name": "ipython",
    "version": 3
   },
   "file_extension": ".py",
   "mimetype": "text/x-python",
   "name": "python",
   "nbconvert_exporter": "python",
   "pygments_lexer": "ipython3",
   "version": "3.6.2"
  }
 },
 "nbformat": 4,
 "nbformat_minor": 2
}
