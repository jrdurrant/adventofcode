{
 "cells": [
  {
   "cell_type": "markdown",
   "metadata": {},
   "source": [
    "# Advent of Code 2017: Day 3\n",
    "\n",
    "## Problem statement\n",
    "\n",
    "> You come across an experimental new kind of memory stored on an <font color='green'>infinite two-dimensional grid</font>.\n",
    "\n",
    "> Each square on the grid is allocated in a <font color='green'>spiral pattern starting at a location marked 1 and then counting up while spiraling outward</font>. For example, the first few squares are allocated like this:\n",
    "\n",
    "> |      |      |      |      |      |      |      |\n",
    "  | ---: | ---: | ---: | ---: | ---: | ---: | ---: |\n",
    "  |      |  17  |  16  |  15  |  14  |  13  |      |\n",
    "  |      |  18  |   5  |   4  |   3  |  12  |      |\n",
    "  |      |  19  |   6  | **1**|   2  |  11  |      |\n",
    "  |      |  20  |   7  |   8  |   9  |  10  |      |\n",
    "  |      |  21  |  22  |  23  |  24  | -->  |      |\n",
    "  |      |      |      |      |      |      |      |      |\n",
    "\n",
    "> While this is very space-efficient (no squares are skipped), requested data must be carried back to square 1 (the location of the only access port for this memory system) by programs <font color='blue'>that can only move up, down, left, or right</font>. They always take the shortest path: the <font color='red'>Manhattan Distance</font> between the <font color='red'>location of the data</font> and square 1.\n",
    "\n",
    "> **How many steps are required to carry the data from the square identified in your puzzle input all the way to the access port**?\n",
    "\n",
    "## Breaking down the problem\n",
    "- **Task**: Find the shortest path between a given square and square 1\n",
    "- <font color='green'>Data</font>: An infinite 2D grid of values that increment, spiraling outward from the centre\n",
    "- <font color='blue'>Constraints</font>: Shortest path will be to move all the way along one axis, and then the other - the length of this is the Manhattan distance\n",
    "- <font color='red'>Find location of the data</font>: Given the *index* of the data, find the 2D coordinate\n",
    "- <font color='red'>Manhattan distance</font>: Compute the Manhattan distance from this square to square 1"
   ]
  },
  {
   "cell_type": "markdown",
   "metadata": {},
   "source": [
    "## Implementation\n",
    "### Grid movement"
   ]
  },
  {
   "cell_type": "code",
   "execution_count": 16,
   "metadata": {
    "collapsed": true
   },
   "outputs": [],
   "source": [
    "Location = Direction = complex\n",
    "\n",
    "def turn_left(forward):\n",
    "    return Direction(forward * 1j)\n",
    "\n",
    "def adjacent(location, forward):\n",
    "    return location + (forward * 1j)"
   ]
  },
  {
   "cell_type": "code",
   "execution_count": 17,
   "metadata": {
    "collapsed": true
   },
   "outputs": [],
   "source": [
    "def manhattan_distance(direction):\n",
    "    return abs(direction.real) + abs(direction.imag)"
   ]
  },
  {
   "cell_type": "markdown",
   "metadata": {},
   "source": [
    "### Traverse the spiral"
   ]
  },
  {
   "cell_type": "code",
   "execution_count": 18,
   "metadata": {
    "collapsed": true
   },
   "outputs": [],
   "source": [
    "def spiral(grid, start=Location(0, 0), forward=Direction(0, -1)):\n",
    "    location = start\n",
    "    while True:\n",
    "        if adjacent(location, forward) not in grid:\n",
    "            forward = turn_left(forward)\n",
    "        location += forward\n",
    "        yield location"
   ]
  },
  {
   "cell_type": "markdown",
   "metadata": {},
   "source": [
    "### Locate square from index"
   ]
  },
  {
   "cell_type": "code",
   "execution_count": 19,
   "metadata": {
    "collapsed": true
   },
   "outputs": [],
   "source": [
    "def distance_from_index(index):\n",
    "    location = Location(0, 0)\n",
    "    grid = {location: 1}\n",
    "\n",
    "    for i, location in zip(range(2, index + 1), spiral(grid)):\n",
    "        grid[location] = i\n",
    "\n",
    "    return manhattan_distance(location)"
   ]
  },
  {
   "cell_type": "markdown",
   "metadata": {},
   "source": [
    "## Check against test cases"
   ]
  },
  {
   "cell_type": "code",
   "execution_count": 20,
   "metadata": {},
   "outputs": [],
   "source": [
    "assert distance_from_index(1) == 0\n",
    "assert distance_from_index(12) == 3\n",
    "assert distance_from_index(23) == 2\n",
    "assert distance_from_index(1024) == 31"
   ]
  },
  {
   "cell_type": "markdown",
   "metadata": {},
   "source": [
    "## Solve problem"
   ]
  },
  {
   "cell_type": "code",
   "execution_count": 21,
   "metadata": {},
   "outputs": [
    {
     "name": "stdout",
     "output_type": "stream",
     "text": [
      "430.0\n"
     ]
    }
   ],
   "source": [
    "print(distance_from_index(312051))"
   ]
  },
  {
   "cell_type": "markdown",
   "metadata": {},
   "source": [
    "For **part two** ...\n",
    "\n",
    "|      |      |      |      |      |      |      |\n",
    "| ---: | ---: | ---: | ---: | ---: | ---: | ---: |\n",
    "|      | 147  | 142  | 133  | 122  |  59  |      |\n",
    "|      | 304  |   5  |   4  |   2  |  57  |      |\n",
    "|      | 330  |  10  | **1**|   1  |  54  |      |\n",
    "|      | 351  |  11  |  23  |  25  |  26  |      |\n",
    "|      | 362  | 747  | 806  | -->  | ...  |      |\n",
    "|      |      |      |      |      |      |      |      |"
   ]
  },
  {
   "cell_type": "code",
   "execution_count": 22,
   "metadata": {
    "collapsed": true
   },
   "outputs": [],
   "source": [
    "def neighbours(location):\n",
    "    for dy in [-1, 0, 1]:\n",
    "        for dx in [-1, 0, 1]:\n",
    "            yield location + Direction(dx, dy)"
   ]
  },
  {
   "cell_type": "code",
   "execution_count": 23,
   "metadata": {
    "collapsed": true
   },
   "outputs": [],
   "source": [
    "def fill_squares(max_value):\n",
    "    location = Location(0, 0)\n",
    "    grid = {location: 1}\n",
    "\n",
    "    for location in spiral(grid):\n",
    "        grid[location] = sum(grid[neighbour]\n",
    "                             for neighbour in neighbours(location)\n",
    "                             if neighbour in grid)\n",
    "\n",
    "        if grid[location] > max_value:\n",
    "            return grid[location]"
   ]
  },
  {
   "cell_type": "code",
   "execution_count": 24,
   "metadata": {},
   "outputs": [
    {
     "name": "stdout",
     "output_type": "stream",
     "text": [
      "312453\n"
     ]
    }
   ],
   "source": [
    "print(fill_squares(max_value=312051))"
   ]
  }
 ],
 "metadata": {
  "anaconda-cloud": {},
  "kernelspec": {
   "display_name": "Python 3",
   "language": "python",
   "name": "python3"
  },
  "language_info": {
   "codemirror_mode": {
    "name": "ipython",
    "version": 3
   },
   "file_extension": ".py",
   "mimetype": "text/x-python",
   "name": "python",
   "nbconvert_exporter": "python",
   "pygments_lexer": "ipython3",
   "version": "3.6.2"
  }
 },
 "nbformat": 4,
 "nbformat_minor": 1
}
