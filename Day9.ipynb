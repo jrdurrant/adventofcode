{
 "cells": [
  {
   "cell_type": "markdown",
   "metadata": {},
   "source": [
    "# Advent of Code 2017: [Day 9](http://adventofcode.com/2017/day/9)\n",
    "\n",
    "## Problem statement\n",
    "\n",
    ">A large stream blocks your path. According to the locals, it's not safe to cross the stream at the moment because it's full of garbage. You look down at the stream; rather than water, you discover that it's a stream of characters.\n",
    "\n",
    ">You sit for a while and record part of the stream (your puzzle input). The characters represent groups - sequences that begin with { and end with }. Within a group, there are zero or more other things, separated by commas: either another group or garbage. Since groups can contain other groups, a } only closes the most-recently-opened unclosed group - that is, they are nestable. Your puzzle input represents a single, large group which itself contains many smaller ones.\n",
    "\n",
    ">Sometimes, instead of a group, you will find garbage. Garbage begins with < and ends with >. Between those angle brackets, almost any character can appear, including { and }. Within garbage, < has no special meaning.\n",
    "\n",
    ">In a futile attempt to clean up the garbage, some program has canceled some of the characters within it using !: inside garbage, any character that comes after ! should be ignored, including <, >, and even another !.\n",
    "\n",
    ">You don't see any characters that deviate from these rules.  Outside garbage, you only find well-formed groups, and garbage always terminates according to the rules above.\n",
    "\n",
    ">Here are some self-contained pieces of garbage:\n",
    "\n",
    "><>, empty garbage.\n",
    "\n",
    "><random characters>, garbage containing random characters.\n",
    "\n",
    "><<<<>, because the extra < are ignored.\n",
    "\n",
    "><{!>}>, because the first > is canceled.\n",
    "\n",
    "><!!>, because the second ! is canceled, allowing the > to terminate the garbage.\n",
    "\n",
    "><!!!>>, because the second ! and the first > are canceled.\n",
    "\n",
    "><{o\"i!a,<{i<a>, which ends at the first >.\n",
    "\n",
    ">Here are some examples of whole streams and the number of groups they contain:\n",
    "\n",
    ">{}, 1 group.\n",
    "\n",
    ">{{{}}}, 3 groups.\n",
    "\n",
    ">{{},{}}, also 3 groups.\n",
    "\n",
    ">{{{},{},{{}}}}, 6 groups.\n",
    "\n",
    ">{<{},{},{{}}>}, 1 group (which itself contains garbage).\n",
    "\n",
    ">{<a>,<a>,<a>,<a>}, 1 group.\n",
    "\n",
    ">{{<a>},{<a>},{<a>},{<a>}}, 5 groups.\n",
    "\n",
    ">{{<!>},{<!>},{<!>},{<a>}}, 2 groups (since all but the last > are canceled).\n",
    "\n",
    ">Your goal is to find the total score for all groups in your input. Each group is assigned a score which is one more than the score of the group that immediately contains it. (The outermost group gets a score of 1.)\n",
    "\n",
    ">{}, score of 1.\n",
    "\n",
    ">{{{}}}, score of 1 + 2 + 3 = 6.\n",
    "\n",
    ">{{},{}}, score of 1 + 2 + 2 = 5.\n",
    "\n",
    ">{{{},{},{{}}}}, score of 1 + 2 + 3 + 3 + 3 + 4 = 16.\n",
    "\n",
    ">{<a>,<a>,<a>,<a>}, score of 1.\n",
    "\n",
    ">{{<ab>},{<ab>},{<ab>},{<ab>}}, score of 1 + 2 + 2 + 2 + 2 = 9.\n",
    "\n",
    ">{{<!!>},{<!!>},{<!!>},{<!!>}}, score of 1 + 2 + 2 + 2 + 2 = 9.\n",
    "\n",
    ">{{<a!>},{<a!>},{<a!>},{<ab>}}, score of 1 + 2 = 3.\n",
    "\n",
    ">What is the total score for all groups in your input?\n",
    "\n",
    "## Breaking down the problem\n",
    "- **Task**:\n",
    "- <font color='green'>Input</font>:\n",
    "- <font color='blue'>Process the data</font>:\n",
    "- <font color='red'>Compute</font>:"
   ]
  },
  {
   "cell_type": "markdown",
   "metadata": {},
   "source": [
    "## Implementation"
   ]
  },
  {
   "cell_type": "code",
   "execution_count": 151,
   "metadata": {
    "collapsed": false
   },
   "outputs": [],
   "source": [
    "def ignore_garbage(stream):\n",
    "    garbage = 0\n",
    "    for c in consume(stream):\n",
    "        if   c == '>': return garbage\n",
    "        elif c == '!': next(stream)\n",
    "        else         : garbage += 1\n",
    "\n",
    "def score(stream, depth=0):\n",
    "    stream = iter(stream)\n",
    "    total = depth\n",
    "\n",
    "    for c in stream:\n",
    "        if   c == '{': total += score(stream, depth + 1)\n",
    "        elif c == '}': return total\n",
    "        elif c == '<': ignore_garbage(stream)    \n",
    "    return total"
   ]
  },
  {
   "cell_type": "markdown",
   "metadata": {},
   "source": [
    "## Check against test cases"
   ]
  },
  {
   "cell_type": "code",
   "execution_count": 152,
   "metadata": {
    "collapsed": false
   },
   "outputs": [],
   "source": [
    "assert score('{}') == 1\n",
    "assert score('{{{}}}') == 6\n",
    "assert score('{{},{}}') == 5\n",
    "assert score('{{{},{},{{}}}}') == 16\n",
    "assert score('{<a>,<a>,<a>,<a>}') == 1\n",
    "assert score('{{<ab>},{<ab>},{<ab>},{<ab>}}') == 9\n",
    "assert score('{{<!!>},{<!!>},{<!!>},{<!!>}}') == 9\n",
    "assert score('{{<a!>},{<a!>},{<a!>},{<ab>}}') == 3"
   ]
  },
  {
   "cell_type": "markdown",
   "metadata": {},
   "source": [
    "## Solve problem"
   ]
  },
  {
   "cell_type": "code",
   "execution_count": 153,
   "metadata": {
    "collapsed": false
   },
   "outputs": [
    {
     "name": "stdout",
     "output_type": "stream",
     "text": [
      "16021\n"
     ]
    }
   ],
   "source": [
    "with open('day9_input.txt') as f:\n",
    "    stream = f.read().strip()\n",
    "    \n",
    "print(score(stream))"
   ]
  },
  {
   "cell_type": "code",
   "execution_count": 154,
   "metadata": {
    "collapsed": false
   },
   "outputs": [
    {
     "name": "stdout",
     "output_type": "stream",
     "text": [
      "[16021  7685]\n"
     ]
    }
   ],
   "source": [
    "from numpy import array\n",
    "\n",
    "def score(stream, depth=0, garbage=0):\n",
    "    stream = iter(stream)\n",
    "    total = depth\n",
    "\n",
    "    for c in stream:\n",
    "        if c == '{': total, garbage = array([total, garbage]) + score(stream, depth + 1)\n",
    "        elif c == '}': return array([total, garbage])\n",
    "        elif c == '<': garbage += ignore_garbage(stream)\n",
    "    return array([total, garbage])\n",
    "\n",
    "print(score(stream))"
   ]
  }
 ],
 "metadata": {
  "anaconda-cloud": {},
  "kernelspec": {
   "display_name": "Python [default]",
   "language": "python",
   "name": "python3"
  },
  "language_info": {
   "codemirror_mode": {
    "name": "ipython",
    "version": 3
   },
   "file_extension": ".py",
   "mimetype": "text/x-python",
   "name": "python",
   "nbconvert_exporter": "python",
   "pygments_lexer": "ipython3",
   "version": "3.5.2"
  }
 },
 "nbformat": 4,
 "nbformat_minor": 1
}
