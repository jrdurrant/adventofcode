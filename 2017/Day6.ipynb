{
 "cells": [
  {
   "cell_type": "markdown",
   "metadata": {},
   "source": [
    "# Advent of Code 2017: [Day 6](http://adventofcode.com/2017/day/6)\n",
    "\n",
    "## Problem statement\n",
    "\n",
    ">A debugger program here is having an issue: it is trying to repair a memory reallocation routine, but it keeps getting stuck in an infinite loop.\n",
    "\n",
    ">In this area, there are <font color='green'>sixteen memory banks</font>; each memory bank <font color='blue'>can hold any number of blocks</font>. **The goal of the reallocation routine is to balance the blocks between the memory banks**.\n",
    "\n",
    "><font color='blue'>The reallocation routine operates in cycles</font>. In <font color='red'>each cycle</font>, it <font color='red'>finds the memory bank with the most blocks</font> (ties won by the lowest-numbered memory bank) and <font color='red'>redistributes those blocks among the banks</font>. To do this, it removes all of the blocks from the selected bank, then moves to the next (by index) memory bank and inserts one of the blocks. It continues doing this until it runs out of blocks; if it reaches the last memory bank, <font color='blue'>it wraps around to the first one</font>.\n",
    "\n",
    ">The debugger would like to know **how many redistributions can be done before a blocks-in-banks configuration is produced that has been seen before.**\n",
    "\n",
    "## Example\n",
    "\n",
    ">Imagine a scenario with only four memory banks:\n",
    "\n",
    ">The banks start with `0`, `2`, `7`, and `0` blocks. The third bank has the most blocks, so it is chosen for redistribution.\n",
    "\n",
    ">Starting with the next bank (the fourth bank) and then continuing to the first bank, the second bank, and so on, the `7` blocks are spread out over the memory banks. The fourth, first, and second banks get two blocks each, and the third bank gets one back. The final result looks like this: `2 4 1 2`.\n",
    "\n",
    ">Next, the second bank is chosen because it contains the most blocks (four). Because there are four memory banks, each gets one block. The result is: `3 1 2 3`.\n",
    "\n",
    ">Now, there is a tie between the first and fourth memory banks, both of which have three blocks. The first bank wins the tie, and its three blocks are distributed evenly over the other three banks, leaving it with none: `0 2 3 4`.\n",
    "\n",
    ">The fourth bank is chosen, and its four blocks are distributed such that each of the four banks receives one: `1 3 4 1`.\n",
    "\n",
    ">The third bank is chosen, and the same thing happens: `2 4 1 2`.\n",
    "\n",
    ">At this point, we've reached a state we've seen before: `2 4 1 2` was already seen. The infinite loop is detected after the fifth block redistribution cycle, and so the answer in this example is `5`."
   ]
  },
  {
   "cell_type": "markdown",
   "metadata": {},
   "source": [
    "## Breaking down the problem\n",
    "- **Task**: Count how many cycles it takes to balance the number of blocks between the memory banks\n",
    "- <font color='green'>Input</font>: A list of sixteen numbers representing the number of blocks in each memory bank\n",
    "- <font color='blue'>Format</font>: Each individual memory bank can hold any number of blocks (positive integer)\n",
    "- <font color='blue'>Data handling</font>: When allocating into banks, allocate in order but wrap around at the end of the list\n",
    "- <font color='red'>Cycle</font>: \n",
    "    - Find the memory bank with the most blocks (and lowest index in case of a tie)\n",
    "    - Record this number and zero this bank's value\n",
    "    - Iteratively add one to each memory bank starting from the subsequent one - wrapping back to the start if necessary - until the blocks have been exhausted \n",
    "    - Record this configuration of banks to memory\n",
    "- <font color='red'>Count cycles</font>: Count the number of cycles it takes before trying to add a configuration to memory that already exists"
   ]
  },
  {
   "cell_type": "markdown",
   "metadata": {},
   "source": [
    "## Implementation"
   ]
  },
  {
   "cell_type": "code",
   "execution_count": 22,
   "metadata": {
    "collapsed": true
   },
   "outputs": [],
   "source": [
    "from itertools import cycle, islice\n",
    "\n",
    "def loop(start, length):\n",
    "    return islice(cycle(range(len(banks))),\n",
    "                  start, start + length)\n",
    "\n",
    "def argmax(sequence): return sequence.index(max(sequence))"
   ]
  },
  {
   "cell_type": "code",
   "execution_count": 23,
   "metadata": {
    "collapsed": true
   },
   "outputs": [],
   "source": [
    "def distribute(banks, index):\n",
    "    banks = list(banks)\n",
    "    blocks, banks[index] = banks[index], 0\n",
    "\n",
    "    for i in loop(start=(index + 1), length=blocks):\n",
    "        banks[i] += 1\n",
    "\n",
    "    return tuple(banks)\n",
    "\n",
    "def reallocate(banks):\n",
    "    memory = {}\n",
    "    cycle = 0\n",
    "\n",
    "    while banks not in memory:\n",
    "        memory[banks] = cycle\n",
    "        banks = distribute(banks, index=argmax(banks))\n",
    "        cycle += 1\n",
    "\n",
    "    return cycle, cycle - memory[banks]"
   ]
  },
  {
   "cell_type": "markdown",
   "metadata": {},
   "source": [
    "## Check against test cases"
   ]
  },
  {
   "cell_type": "code",
   "execution_count": 24,
   "metadata": {},
   "outputs": [
    {
     "name": "stdout",
     "output_type": "stream",
     "text": [
      "(5, 4)\n"
     ]
    }
   ],
   "source": [
    "banks = (0, 2, 7, 0)\n",
    "print(reallocate(banks))"
   ]
  },
  {
   "cell_type": "markdown",
   "metadata": {},
   "source": [
    "## Solve problem"
   ]
  },
  {
   "cell_type": "code",
   "execution_count": 25,
   "metadata": {},
   "outputs": [
    {
     "name": "stdout",
     "output_type": "stream",
     "text": [
      "Part one: 11137, Part two: 1037\n",
      " "
     ]
    }
   ],
   "source": [
    "banks = tuple(map(int, '14\t0\t15\t12\t11\t11\t3\t5\t1\t6\t8\t4\t9\t1\t8\t4'.split()))\n",
    "print('Part one: {}, Part two: {}'.format(*reallocate(banks)))"
   ]
  }
 ],
 "metadata": {
  "kernelspec": {
   "display_name": "Python 3",
   "language": "python",
   "name": "python3"
  },
  "language_info": {
   "codemirror_mode": {
    "name": "ipython",
    "version": 3
   },
   "file_extension": ".py",
   "mimetype": "text/x-python",
   "name": "python",
   "nbconvert_exporter": "python",
   "pygments_lexer": "ipython3",
   "version": "3.6.2"
  }
 },
 "nbformat": 4,
 "nbformat_minor": 2
}
