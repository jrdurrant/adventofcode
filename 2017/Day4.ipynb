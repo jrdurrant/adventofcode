{
 "cells": [
  {
   "cell_type": "markdown",
   "metadata": {},
   "source": [
    "# Advent of Code 2017: [Day 4](http://adventofcode.com/2017/day/4)\n",
    "\n",
    "## Problem statement\n",
    "\n",
    ">A new system policy has been put in place that requires all accounts to use a passphrase instead of simply a password. A passphrase consists of <font color='green'>a series of words (lowercase letters) separated by spaces</font>.\n",
    "\n",
    ">To ensure security, a valid passphrase must contain <font color='blue'>no duplicate words</font>.\n",
    "\n",
    ">For example:\n",
    "\n",
    ">- '`aa bb cc dd ee`' is valid.\n",
    "- '`aa bb cc dd aa`' is not valid - the word aa appears more than once.\n",
    "- '`aa bb cc dd aaa`' is valid - '`aa`' and '`aaa`' count as different words.\n",
    "\n",
    ">The system's full <font color='green'>passphrase list</font> is available as your puzzle input. **<font color='red'>How many</font> passphrases are valid?**\n",
    "\n",
    "## Breaking down the problem\n",
    "- **Task**: Count the number of valid passphrases given a passphrase list\n",
    "- <font color='green'>Input</font>: A list of passphrases (strings)\n",
    "- <font color='blue'>Process the data</font>: Filter out passphrases with duplicate words\n",
    "- <font color='red'>Compute</font>: Find the length of the remaining passphrase list"
   ]
  },
  {
   "cell_type": "markdown",
   "metadata": {},
   "source": [
    "## Implementation\n",
    "The main thing to implement is to check whether a particular passphrase is valid or not - whether it contains any duplicate words. Python's `set` type reduces a list down to its unique elements, and so if a list (`words` in this case) stays the same length then every element must be unique. "
   ]
  },
  {
   "cell_type": "code",
   "execution_count": 69,
   "metadata": {
    "collapsed": true
   },
   "outputs": [],
   "source": [
    "def valid(phrase):\n",
    "    words = phrase.split()\n",
    "    return len(set(words)) == len(words)"
   ]
  },
  {
   "cell_type": "markdown",
   "metadata": {},
   "source": [
    "## Check against test cases\n",
    "We can check this against the toy example given in the problem"
   ]
  },
  {
   "cell_type": "code",
   "execution_count": 70,
   "metadata": {},
   "outputs": [
    {
     "name": "stdout",
     "output_type": "stream",
     "text": [
      "'aa bb cc dd ee' is valid\n",
      "'aa bb cc dd aa' is not valid\n",
      "'aa bb cc dd aaa' is valid\n"
     ]
    }
   ],
   "source": [
    "phrase_list = [\n",
    "    'aa bb cc dd ee',\n",
    "    'aa bb cc dd aa',\n",
    "    'aa bb cc dd aaa'\n",
    "]\n",
    "\n",
    "for passphrase in phrase_list:\n",
    "    print('\\'{}\\' is {}'.format(passphrase, 'valid' if valid(passphrase) else 'not valid'))"
   ]
  },
  {
   "cell_type": "markdown",
   "metadata": {},
   "source": [
    "## Solve problem\n",
    "Since the data is all one block of text it needs to be preprocessed by splitting the lines into passphrases. The first five passphrases are shown as an example."
   ]
  },
  {
   "cell_type": "code",
   "execution_count": 71,
   "metadata": {},
   "outputs": [
    {
     "name": "stdout",
     "output_type": "stream",
     "text": [
      "0: sayndz zfxlkl attjtww cti sokkmty brx fhh suelqbp\n",
      "1: xmuf znkhaes pggrlp zia znkhaes znkhaes\n",
      "2: nti rxr bogebb zdwrin\n",
      "3: sryookh unrudn zrkz jxhrdo gctlyz\n",
      "4: bssqn wbmdc rigc zketu ketichh enkixg bmdwc stnsdf jnz mqovwg ixgken\n"
     ]
    }
   ],
   "source": [
    "def load_data():\n",
    "    with open('day4_input.txt') as f:\n",
    "        return [phrase\n",
    "                for phrase in f.read().split('\\n')\n",
    "                if len(phrase) > 0]\n",
    "    \n",
    "phrase_list = load_data()\n",
    "\n",
    "for i, phrase in zip(range(5), phrase_list):\n",
    "    print('{}: {}'.format(i, phrase))"
   ]
  },
  {
   "cell_type": "markdown",
   "metadata": {},
   "source": [
    "The answer to the problem is simply the length of the list that results from filtering out any passphrases that are not valid"
   ]
  },
  {
   "cell_type": "code",
   "execution_count": 72,
   "metadata": {},
   "outputs": [
    {
     "name": "stdout",
     "output_type": "stream",
     "text": [
      "383\n"
     ]
    }
   ],
   "source": [
    "print(len([passphrase for passphrase in phrase_list\n",
    "           if valid_passphrase(passphrase)]))"
   ]
  },
  {
   "cell_type": "markdown",
   "metadata": {},
   "source": [
    "For **part two** passphrases are also not valid if any two words in the phrase are anagrams of each other. This works exactly the same as in part one, except we have redefined what it means for words to be unique.\n",
    "\n",
    "If two words are anagrams of each other then they must contain the same characters, albeit in a different order. Therefore both words should have the same result after sorting the characters alphabetically. Using phrase `4` from above:"
   ]
  },
  {
   "cell_type": "code",
   "execution_count": 73,
   "metadata": {},
   "outputs": [
    {
     "name": "stdout",
     "output_type": "stream",
     "text": [
      "['e', 'g', 'i', 'k', 'n', 'x']\n",
      "['e', 'g', 'i', 'k', 'n', 'x']\n"
     ]
    }
   ],
   "source": [
    "print(sorted('enkixg'))\n",
    "print(sorted('ixgken'))"
   ]
  },
  {
   "cell_type": "markdown",
   "metadata": {},
   "source": [
    "By implementing this as the hash and equality operator for a Python class, we are redefining what it means for two instances to be distinct, and therefore which should be remain after converting a phrase to a set."
   ]
  },
  {
   "cell_type": "code",
   "execution_count": 74,
   "metadata": {
    "collapsed": true
   },
   "outputs": [],
   "source": [
    "class Password(str):\n",
    "    def __hash__(self):\n",
    "        return hash(str(sorted(self)))\n",
    "    \n",
    "    def __eq__(self, other):\n",
    "        return sorted(self) == sorted(other)\n",
    "    \n",
    "def valid(phrase, accept_anagrams=True):\n",
    "    words = phrase.split()\n",
    "    \n",
    "    if not accept_anagrams:\n",
    "        words = [Password(word) for word in words]\n",
    "\n",
    "    return len(set(words)) == len(words)"
   ]
  },
  {
   "cell_type": "markdown",
   "metadata": {},
   "source": [
    "This new definition of '`valid`' can be seen to be consistent with the original result, as well as being able to allow for filtering out anagrams as well"
   ]
  },
  {
   "cell_type": "code",
   "execution_count": 75,
   "metadata": {},
   "outputs": [
    {
     "name": "stdout",
     "output_type": "stream",
     "text": [
      "383\n"
     ]
    }
   ],
   "source": [
    "print(len([passphrase for passphrase in phrase_list\n",
    "           if valid(passphrase)]))"
   ]
  },
  {
   "cell_type": "code",
   "execution_count": 76,
   "metadata": {},
   "outputs": [
    {
     "name": "stdout",
     "output_type": "stream",
     "text": [
      "265\n"
     ]
    }
   ],
   "source": [
    "print(len([passphrase for passphrase in phrase_list\n",
    "           if valid(passphrase, accept_anagrams=False)]))"
   ]
  }
 ],
 "metadata": {
  "kernelspec": {
   "display_name": "Python 3",
   "language": "python",
   "name": "python3"
  },
  "language_info": {
   "codemirror_mode": {
    "name": "ipython",
    "version": 3
   },
   "file_extension": ".py",
   "mimetype": "text/x-python",
   "name": "python",
   "nbconvert_exporter": "python",
   "pygments_lexer": "ipython3",
   "version": "3.6.2"
  }
 },
 "nbformat": 4,
 "nbformat_minor": 2
}
