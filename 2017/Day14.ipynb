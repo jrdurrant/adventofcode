{
 "cells": [
  {
   "cell_type": "markdown",
   "metadata": {},
   "source": [
    "# Advent of Code 2017: [Day 14](http://adventofcode.com/2017/day/14)\n",
    "\n",
    "## Problem statement\n",
    "\n",
    ">Suddenly, a scheduled job activates the system's disk defragmenter. Were the situation different, you might sit and watch it for a while, but today, you just don't have that kind of time. It's soaking up valuable system resources that are needed elsewhere, and so the only option is to help it finish its task as soon as possible.\n",
    "\n",
    ">The disk in question consists of a 128x128 grid; each square of the grid is either free or used. On this disk, the state of the grid is tracked by the bits in a sequence of knot hashes.\n",
    "\n",
    ">A total of 128 knot hashes are calculated, each corresponding to a single row in the grid; each hash contains 128 bits which correspond to individual grid squares. Each bit of a hash indicates whether that square is free (0) or used (1).\n",
    "\n",
    ">The hash inputs are a key string (your puzzle input), a dash, and a number from 0 to 127 corresponding to the row.  For example, if your key string were flqrgnkx, then the first row would be given by the bits of the knot hash of flqrgnkx-0, the second row from the bits of the knot hash of flqrgnkx-1, and so on until the last row, flqrgnkx-127.\n",
    "\n",
    ">The output of a knot hash is traditionally represented by 32 hexadecimal digits; each of these digits correspond to 4 bits, for a total of 4 * 32 = 128 bits. To convert to bits, turn each hexadecimal digit to its equivalent binary value, high-bit first: 0 becomes 0000, 1 becomes 0001, e becomes 1110, f becomes 1111, and so on; a hash that begins with a0c2017... in hexadecimal would begin with 10100000110000100000000101110000... in binary.\n",
    "\n",
    ">Continuing this process, the first 8 rows and columns for key flqrgnkx appear as follows, using # to denote used squares, and . to denote free ones:\n",
    "\n",
    ">##.#.#..-->\n",
    "\n",
    ">.#.#.#.#   \n",
    "\n",
    ">....#.#.   \n",
    "\n",
    ">#.#.##.#   \n",
    "\n",
    ">.##.#...   \n",
    "\n",
    ">##..#..#   \n",
    "\n",
    ">.#...#..   \n",
    "\n",
    ">##.#.##.-->\n",
    "\n",
    ">|      |   \n",
    "\n",
    ">V      V   \n",
    "\n",
    ">In this example, 8108 squares are used across the entire 128x128 grid.\n",
    "\n",
    ">Given your actual key string, how many squares are used?\n",
    "\n",
    "## Breaking down the problem\n",
    "- **Task**:\n",
    "- <font color='green'>Input</font>:\n",
    "- <font color='blue'>Process the data</font>:\n",
    "- <font color='red'>Compute</font>:"
   ]
  },
  {
   "cell_type": "markdown",
   "metadata": {},
   "source": [
    "## Implementation"
   ]
  },
  {
   "cell_type": "code",
   "execution_count": 22,
   "metadata": {
    "scrolled": false
   },
   "outputs": [],
   "source": [
    "from Day10 import knot_hash\n",
    "\n",
    "def hex_to_binary(digit): return format(int(digit, 16), '04b')\n",
    "\n",
    "def binary_hash(hex_string):\n",
    "    return ''.join(hex_to_binary(c) for c in hex_string)\n",
    "\n",
    "def row(key, number):\n",
    "    string = key + '-' + str(number)\n",
    "    return [bit == '1' for bit in binary_hash(knot_hash(string))]\n",
    "\n",
    "def grid(key):\n",
    "    return (row(key, number) for number in range(128))\n",
    "\n",
    "def squares_used(grid):\n",
    "    return sum(cell\n",
    "               for row in grid\n",
    "               for cell in row)"
   ]
  },
  {
   "cell_type": "markdown",
   "metadata": {},
   "source": [
    "## Check against test cases"
   ]
  },
  {
   "cell_type": "code",
   "execution_count": 23,
   "metadata": {},
   "outputs": [],
   "source": [
    "assert squares_used(grid('flqrgnkx')) == 8108"
   ]
  },
  {
   "cell_type": "markdown",
   "metadata": {},
   "source": [
    "## Solve problem"
   ]
  },
  {
   "cell_type": "code",
   "execution_count": 24,
   "metadata": {},
   "outputs": [
    {
     "name": "stdout",
     "output_type": "stream",
     "text": [
      "8214\n"
     ]
    }
   ],
   "source": [
    "print(squares_used(grid('hxtvlmkl')))"
   ]
  },
  {
   "cell_type": "code",
   "execution_count": 25,
   "metadata": {},
   "outputs": [
    {
     "name": "stdout",
     "output_type": "stream",
     "text": [
      "8214\n"
     ]
    }
   ],
   "source": [
    "from itertools import product\n",
    "from Day12 import build_groups\n",
    "\n",
    "def neighbours(x, y, used):\n",
    "    coordinates = [(x, y), (x - 1, y), (x, y - 1), (x + 1, y), (x, y + 1)]\n",
    "\n",
    "    return ((x, y) for x, y in coordinates\n",
    "            if 0 <= x < 128 and 0 <= y < 128 and used[y][x])\n",
    "\n",
    "def cluster(used):\n",
    "    cells = product(range(128), range(128))\n",
    "    connections = (neighbours(x, y, used) for x, y in cells if used[y][x])\n",
    "    return build_groups(connections)\n",
    "\n",
    "labels = cluster(list(grid('hxtvlmkl')))\n",
    "\n",
    "print(len(labels))"
   ]
  },
  {
   "cell_type": "code",
   "execution_count": 26,
   "metadata": {
    "scrolled": true
   },
   "outputs": [
    {
     "data": {
      "text/plain": [
       "1093"
      ]
     },
     "execution_count": 26,
     "metadata": {},
     "output_type": "execute_result"
    }
   ],
   "source": [
    "regions = set(tuple(cells) for cells in labels.values())\n",
    "len(regions)"
   ]
  }
 ],
 "metadata": {
  "kernelspec": {
   "display_name": "Python 3",
   "language": "python",
   "name": "python3"
  },
  "language_info": {
   "codemirror_mode": {
    "name": "ipython",
    "version": 3
   },
   "file_extension": ".py",
   "mimetype": "text/x-python",
   "name": "python",
   "nbconvert_exporter": "python",
   "pygments_lexer": "ipython3",
   "version": "3.6.2"
  }
 },
 "nbformat": 4,
 "nbformat_minor": 2
}
