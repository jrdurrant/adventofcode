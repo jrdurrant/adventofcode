{
 "cells": [
  {
   "cell_type": "markdown",
   "metadata": {},
   "source": [
    "# Advent of Code 2017: [Day 7](http://adventofcode.com/2017/day/7)\n",
    "\n",
    "## Problem statement\n",
    "\n",
    ">Wandering further through the circuits of the computer, you come upon a tower of programs that have gotten themselves into a bit of trouble.  A recursive algorithm has gotten out of hand, and now they're balanced precariously in a large tower.\n",
    "\n",
    ">One program at the bottom supports the entire tower. It's holding a large disc, and on the disc are balanced several more sub-towers. At the bottom of these sub-towers, standing on the bottom disc, are other programs, each holding their own disc, and so on. At the very tops of these sub-sub-sub-...-towers, many programs stand simply keeping the disc below them balanced but with no disc of their own.\n",
    "\n",
    ">You offer to help, but first you need to understand the structure of these towers.  You ask each program to yell out their name, their weight, and (if they're holding a disc) the names of the programs immediately above them balancing on that disc. You write this information down (your puzzle input). Unfortunately, in their panic, they don't do this in an orderly fashion; by the time you're done, you're not sure which program gave which information.\n",
    "\n",
    "\n",
    "\n",
    ">Before you're ready to help them, you need to make sure your information is correct.  What is the name of the bottom program?\n",
    "\n",
    "## Example\n",
    ">If your list is the following:\n",
    "\n",
    ">|    |    |    |                |\n",
    " |----|----|----|                |\n",
    " |pbga|(66)|    |                |\n",
    " |xhth|(57)|    |                |\n",
    " |ebii|(61)|    |                |\n",
    " |havc|(66)|    |                |\n",
    " |ktlj|(57)|    |                |\n",
    " |fwft|(72)| -> |ktlj, cntj, xhth|\n",
    " |qoyq|(66)|    |                |\n",
    " |padx|(45)| -> |pbga, havc, qoyq|\n",
    " |tknk|(41)| -> |ugml, padx, fwft|\n",
    " |jptl|(61)|    |                |\n",
    " |ugml|(68)| -> |gyxo, ebii, jptl|\n",
    " |gyxo|(61)|    |                |\n",
    " |cntj|(57)|    |                |    |\n",
    "\n",
    ">...then you would be able to recreate the structure of the towers that looks like this:\n",
    "\n",
    ">                gyxo\n",
    "\n",
    ">              /     \n",
    "\n",
    ">         ugml - ebii\n",
    "\n",
    ">       /      \\     \n",
    "\n",
    ">      |         jptl\n",
    "\n",
    ">      |        \n",
    "\n",
    ">      |         pbga\n",
    "\n",
    ">     /        /\n",
    "\n",
    ">tknk --- padx - havc\n",
    "\n",
    ">     \\        \\\n",
    "\n",
    ">      |         qoyq\n",
    "\n",
    ">      |             \n",
    "\n",
    ">      |         ktlj\n",
    "\n",
    ">       \\      /     \n",
    "\n",
    ">         fwft - cntj\n",
    "\n",
    ">              \\     \n",
    "\n",
    ">                xhth\n",
    "\n",
    ">In this example, '`tknk`' is at the bottom of the tower (the bottom program), and is holding up '`ugml`', '`padx`', and '`fwft`'.  Those programs are, in turn, holding up other programs; in this example, none of those programs are holding up any other programs, and are all the tops of their own towers. (The actual tower balancing in front of you is much larger.)\n",
    "\n",
    "## Breaking down the problem\n",
    "- **Task**:\n",
    "- <font color='green'>Input</font>:\n",
    "- <font color='blue'>Process the data</font>:\n",
    "- <font color='red'>Compute</font>:"
   ]
  },
  {
   "cell_type": "markdown",
   "metadata": {},
   "source": [
    "## Implementation"
   ]
  },
  {
   "cell_type": "code",
   "execution_count": 188,
   "metadata": {
    "collapsed": true
   },
   "outputs": [],
   "source": [
    "import re\n",
    "\n",
    "class Tower:\n",
    "    def __init__(self, name, weight, children=[]):\n",
    "        self.name = name\n",
    "        self.weight = weight\n",
    "        self.children = children\n",
    "    \n",
    "    @classmethod\n",
    "    def from_string(cls, string):\n",
    "        name, weight, children = re.match('([a-z]+) \\(([0-9]+)\\)(?: -> (.*))?', string).groups()\n",
    "        return cls(name, int(weight), children.split(', ') if children is not None else [])\n",
    "    \n",
    "    def __repr__(self):\n",
    "        return 'Tower(name=\\'{}\\', weight={}, children={})'.format(self.name, self.weight, self.children)\n",
    "    \n",
    "def build_tree(strings):\n",
    "    towers = {tower.name: tower for tower in map(Tower.from_string, strings)}\n",
    "\n",
    "    for name, tower in towers.items():\n",
    "        tower.children = [towers[child] for child in tower.children]\n",
    "\n",
    "    return list(towers.values())"
   ]
  },
  {
   "cell_type": "code",
   "execution_count": 189,
   "metadata": {
    "collapsed": true
   },
   "outputs": [],
   "source": [
    "def find_root(towers):\n",
    "    for tower in towers:\n",
    "        if all(tower not in parent.children for parent in towers):\n",
    "            return tower"
   ]
  },
  {
   "cell_type": "markdown",
   "metadata": {},
   "source": [
    "## Check against test cases"
   ]
  },
  {
   "cell_type": "code",
   "execution_count": 190,
   "metadata": {},
   "outputs": [
    {
     "name": "stdout",
     "output_type": "stream",
     "text": [
      "tknk is the root\n"
     ]
    }
   ],
   "source": [
    "example = '''\n",
    "pbga (66)\n",
    "xhth (57)\n",
    "ebii (61)\n",
    "havc (66)\n",
    "ktlj (57)\n",
    "fwft (72) -> ktlj, cntj, xhth\n",
    "qoyq (66)\n",
    "padx (45) -> pbga, havc, qoyq\n",
    "tknk (41) -> ugml, padx, fwft\n",
    "jptl (61)\n",
    "ugml (68) -> gyxo, ebii, jptl\n",
    "gyxo (61)\n",
    "cntj (57)\n",
    "'''\n",
    "\n",
    "towers = build_tree(example.strip().split('\\n'))\n",
    "\n",
    "print('{} is the root'.format(find_root(towers).name))"
   ]
  },
  {
   "cell_type": "markdown",
   "metadata": {},
   "source": [
    "## Solve problem"
   ]
  },
  {
   "cell_type": "code",
   "execution_count": 191,
   "metadata": {},
   "outputs": [
    {
     "name": "stdout",
     "output_type": "stream",
     "text": [
      "hmvwl is the root\n"
     ]
    }
   ],
   "source": [
    "with open('day7_input.txt') as f:\n",
    "    data = f.read().strip()\n",
    "\n",
    "towers = build_tree(data.split('\\n'))\n",
    "\n",
    "print('{} is the root'.format(find_root(towers).name))"
   ]
  }
 ],
 "metadata": {
  "kernelspec": {
   "display_name": "Python 3",
   "language": "python",
   "name": "python3"
  },
  "language_info": {
   "codemirror_mode": {
    "name": "ipython",
    "version": 3
   },
   "file_extension": ".py",
   "mimetype": "text/x-python",
   "name": "python",
   "nbconvert_exporter": "python",
   "pygments_lexer": "ipython3",
   "version": "3.6.2"
  }
 },
 "nbformat": 4,
 "nbformat_minor": 2
}
