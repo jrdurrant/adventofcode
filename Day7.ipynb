{
 "cells": [
  {
   "cell_type": "markdown",
   "metadata": {},
   "source": [
    "# Advent of Code 2017: [Day 7](http://adventofcode.com/2017/day/7)\n",
    "\n",
    "## Problem statement\n",
    "\n",
    ">Wandering further through the circuits of the computer, you come upon a tower of programs that have gotten themselves into a bit of trouble.  A recursive algorithm has gotten out of hand, and now they're balanced precariously in a large tower.\n",
    "\n",
    ">One program at the bottom supports the entire tower. It's holding a large disc, and on the disc are balanced several more sub-towers. At the bottom of these sub-towers, standing on the bottom disc, are other programs, each holding their own disc, and so on. At the very tops of these sub-sub-sub-...-towers, many programs stand simply keeping the disc below them balanced but with no disc of their own.\n",
    "\n",
    ">You offer to help, but first you need to understand the structure of these towers.  You ask each program to yell out their name, their weight, and (if they're holding a disc) the names of the programs immediately above them balancing on that disc. You write this information down (your puzzle input). Unfortunately, in their panic, they don't do this in an orderly fashion; by the time you're done, you're not sure which program gave which information.\n",
    "\n",
    "\n",
    "\n",
    ">Before you're ready to help them, you need to make sure your information is correct.  What is the name of the bottom program?\n",
    "\n",
    "## Example\n",
    ">If your list is the following:\n",
    "\n",
    ">|    |    |    |                |\n",
    " |----|----|----|                |\n",
    " |pbga|(66)|    |                |\n",
    " |xhth|(57)|    |                |\n",
    " |ebii|(61)|    |                |\n",
    " |havc|(66)|    |                |\n",
    " |ktlj|(57)|    |                |\n",
    " |fwft|(72)| -> |ktlj, cntj, xhth|\n",
    " |qoyq|(66)|    |                |\n",
    " |padx|(45)| -> |pbga, havc, qoyq|\n",
    " |tknk|(41)| -> |ugml, padx, fwft|\n",
    " |jptl|(61)|    |                |\n",
    " |ugml|(68)| -> |gyxo, ebii, jptl|\n",
    " |gyxo|(61)|    |                |\n",
    " |cntj|(57)|    |                |    |\n",
    "\n",
    ">...then you would be able to recreate the structure of the towers that looks like this:\n",
    "\n",
    ">                gyxo\n",
    "\n",
    ">              /     \n",
    "\n",
    ">         ugml - ebii\n",
    "\n",
    ">       /      \\     \n",
    "\n",
    ">      |         jptl\n",
    "\n",
    ">      |        \n",
    "\n",
    ">      |         pbga\n",
    "\n",
    ">     /        /\n",
    "\n",
    ">tknk --- padx - havc\n",
    "\n",
    ">     \\        \\\n",
    "\n",
    ">      |         qoyq\n",
    "\n",
    ">      |             \n",
    "\n",
    ">      |         ktlj\n",
    "\n",
    ">       \\      /     \n",
    "\n",
    ">         fwft - cntj\n",
    "\n",
    ">              \\     \n",
    "\n",
    ">                xhth\n",
    "\n",
    ">In this example, '`tknk`' is at the bottom of the tower (the bottom program), and is holding up '`ugml`', '`padx`', and '`fwft`'.  Those programs are, in turn, holding up other programs; in this example, none of those programs are holding up any other programs, and are all the tops of their own towers. (The actual tower balancing in front of you is much larger.)\n",
    "\n",
    "## Breaking down the problem\n",
    "- **Task**:\n",
    "- <font color='green'>Input</font>:\n",
    "- <font color='blue'>Process the data</font>:\n",
    "- <font color='red'>Compute</font>:"
   ]
  },
  {
   "cell_type": "markdown",
   "metadata": {},
   "source": [
    "## Implementation"
   ]
  },
  {
   "cell_type": "code",
   "execution_count": 62,
   "metadata": {},
   "outputs": [],
   "source": [
    "from operator import attrgetter\n",
    "import re\n",
    "\n",
    "def all_equal(sequence, key): return len(set(map(key, sequence))) <= 1\n",
    "\n",
    "class Tower:\n",
    "    def __init__(self, name, weight, children=[]):\n",
    "        self.name = name\n",
    "        self.weight = weight\n",
    "        self.children = children\n",
    "    \n",
    "    @classmethod\n",
    "    def from_string(cls, string):\n",
    "        name, weight, children = re.match('([a-z]+) \\(([0-9]+)\\)(?: -> (.*))?', string).groups()\n",
    "        return cls(name, int(weight), children.split(', ') if children is not None else [])\n",
    "\n",
    "    @property\n",
    "    def total_weight(self): return self.weight + self.program_weight\n",
    "    \n",
    "    @property\n",
    "    def program_weight(self): return sum(tower.total_weight for tower in self.children)\n",
    "\n",
    "    @property\n",
    "    def balanced(self): return all_equal(self.children, key=attrgetter('total_weight'))"
   ]
  },
  {
   "cell_type": "code",
   "execution_count": 63,
   "metadata": {
    "collapsed": true
   },
   "outputs": [],
   "source": [
    "def build_tree(strings):\n",
    "    towers = {tower.name: tower for tower in map(Tower.from_string, strings)}\n",
    "    for tower in towers.values():\n",
    "        tower.children = [towers[child] for child in tower.children]\n",
    "    return list(towers.values())"
   ]
  },
  {
   "cell_type": "code",
   "execution_count": 64,
   "metadata": {
    "collapsed": true
   },
   "outputs": [],
   "source": [
    "def find_root(towers):\n",
    "    for tower in towers:\n",
    "        if all(tower not in parent.children for parent in towers):\n",
    "            return tower"
   ]
  },
  {
   "cell_type": "markdown",
   "metadata": {},
   "source": [
    "## Check against test cases"
   ]
  },
  {
   "cell_type": "code",
   "execution_count": 65,
   "metadata": {},
   "outputs": [
    {
     "name": "stdout",
     "output_type": "stream",
     "text": [
      "tknk is the root\n"
     ]
    }
   ],
   "source": [
    "example = '''\n",
    "pbga (66)\n",
    "xhth (57)\n",
    "ebii (61)\n",
    "havc (66)\n",
    "ktlj (57)\n",
    "fwft (72) -> ktlj, cntj, xhth\n",
    "qoyq (66)\n",
    "padx (45) -> pbga, havc, qoyq\n",
    "tknk (41) -> ugml, padx, fwft\n",
    "jptl (61)\n",
    "ugml (68) -> gyxo, ebii, jptl\n",
    "gyxo (61)\n",
    "cntj (57)\n",
    "'''\n",
    "\n",
    "towers = build_tree(example.strip().split('\\n'))\n",
    "\n",
    "print('{} is the root'.format(find_root(towers).name))"
   ]
  },
  {
   "cell_type": "markdown",
   "metadata": {},
   "source": [
    "## Solve problem"
   ]
  },
  {
   "cell_type": "code",
   "execution_count": 66,
   "metadata": {},
   "outputs": [
    {
     "name": "stdout",
     "output_type": "stream",
     "text": [
      "{'ieny', 'uxja', 'lbjw', 'nsmo', 'jgkv', 'raev', 'qoks', 'sjwh', 'mcmq', 'vapw', 'qdds', 'gauj', 'lcku', 'tled', 'ackn', 'barn', 'mbhl', 'qfgz', 'cfhu', 'hnyq', 'uqls', 'xaon', 'dfvh', 'guku', 'vuyz', 'vsga', 'njxy', 'nbng', 'thju', 'hoom', 'egmf', 'hwos', 'ortq', 'vfst', 'mthh', 'spdh', 'xyoh', 'lbwz', 'dllg', 'wnjt', 'ippz', 'nymg', 'flom', 'dqdf', 'zcvi', 'xrbj', 'smlf', 'ubov', 'facr', 'chnk', 'rxcn', 'pkfh', 'lqca', 'xlhf', 'bbhn', 'wudj', 'kpqy', 'jvcc', 'zpid', 'ieus', 'oign', 'avyc', 'hoky', 'tcdw', 'lxcb', 'kjfm', 'aobi', 'rgbv', 'tifg', 'absd', 'zdhv', 'omyd', 'obsl', 'abdd', 'umlk', 'xwlm', 'qpld', 'ohbu', 'cups', 'ykeh', 'ilym', 'wkph', 'fpbs', 'wlpy', 'vchs', 'lcrw', 'bhca', 'zezo', 'jppg', 'vefz', 'zqyu', 'fwsk', 'fflo', 'jqxn', 'ikfp', 'htgx', 'lepj', 'nqvx', 'dvdg', 'vbxm', 'wwez', 'dtsc', 'wnjw', 'jjtr', 'imcc', 'mnkw', 'hnlg', 'aphp', 'nfsu', 'jrwf', 'gewg', 'mhnd', 'olyk', 'bgci', 'yatf', 'knlt', 'eopx', 'wjol', 'nhke', 'qija', 'cijp', 'baew', 'uexd', 'orru', 'bbgw', 'hlcb', 'bdvt', 'flef', 'yoxv', 'yeoo', 'cpnd', 'kwqr', 'bhrb', 'ggvb', 'rsan', 'yrmg', 'vgqe', 'dyxs', 'ajen', 'rzkc', 'rbcq', 'ybvg', 'uscu', 'bjab', 'igyi', 'wcex', 'exuu', 'fgjj', 'zjps', 'ktja', 'yxse', 'lhmn', 'aabr', 'dbvx', 'vyxf', 'rgfn', 'bkdt', 'emwb', 'aoon', 'srhi', 'rjjl', 'hwct', 'oewz', 'jjsv', 'pdos', 'eepp', 'eegu', 'dzbr', 'jfmn', 'gueh', 'yipo', 'bujr', 'eyyz', 'ybft', 'qwsx', 'ihwa', 'jrqo', 'xitz', 'dmkb', 'hzmh', 'igyx', 'vnhv', 'erpv', 'paxz', 'ggns', 'uwai', 'tehy', 'xneo', 'illj', 'alcv', 'ebjs', 'qlwx', 'ojsj', 'jqin', 'cnca', 'trtg', 'wpnq', 'yfmx', 'kmlw', 'ilqo', 'pixj', 'cich', 'bhvm', 'iuee', 'vijk', 'gfff', 'zpkb', 'ziqw', 'cekp', 'lypt', 'hrov', 'dwez', 'vlfo', 'redq', 'mqmb', 'ydbr', 'aylm', 'gtzc', 'drmy', 'iead', 'zjwp', 'rary', 'dnmv', 'xbke', 'tozk', 'ljhw', 'nqhd', 'zwnv', 'obls', 'lvkl', 'kjdo', 'nuqy', 'tkpv', 'wtxb', 'orxo', 'kzbv', 'jxhr', 'lgen', 'vsru', 'hxsw', 'hxck', 'ljfq', 'bkex', 'bdin', 'pprh', 'xfbl', 'jbep', 'qvte', 'cyzk', 'ekva', 'rrfb', 'fjdu', 'oupz', 'nsqq', 'qanb', 'vhty', 'nsca', 'nbfq', 'yhio', 'jysa', 'pgsk', 'lmuy', 'ewdq', 'pmsd', 'jfje', 'kywf', 'ylfs', 'gvkc', 'tpph', 'hacw', 'hrqz', 'uttu', 'oyxb', 'lfpz', 'kunz', 'srqn', 'ksvp', 'xbcg', 'eikl', 'lpua', 'zjox', 'ehjo', 'fgby', 'rsaz', 'vlbb', 'rpza', 'fygm', 'iyny', 'wweu', 'ccua', 'wbes', 'uzhl', 'hito', 'okrd', 'bjrp', 'knir', 'vcjj', 'dhwa', 'bqta', 'jysk', 'lnct', 'yamc', 'hswr', 'rfvo', 'jdrd', 'icgw', 'algq', 'torx', 'rorq', 'sxmb', 'vxdk', 'chop', 'nzzf', 'sqkc', 'lwen', 'duft', 'cpqt', 'pcsu', 'dqas', 'docl', 'vwfh', 'sybp', 'lejg', 'fhui', 'mpch', 'yzxz', 'ttll', 'iwhq', 'wfhy', 'nnld', 'kxnk', 'umtr', 'cbib', 'hdve', 'qxfc', 'hdlq', 'ymro', 'aplv', 'iphg', 'njog', 'tcva', 'zoqn', 'qhaf', 'tedp', 'dbwm', 'lvks', 'thea', 'yfdt', 'kvdk', 'nrpx', 'ffna', 'ripq', 'fgjw', 'vnrm', 'bfch', 'meoe', 'puwv', 'bjhi', 'neus', 'aazx', 'kzwq', 'yjhe', 'xozi', 'qzck', 'axtq', 'zmlt', 'gunc', 'tsro', 'faec', 'fppc', 'jtzk', 'pjzp', 'flcq', 'vchu', 'tggk', 'ztgh', 'imnh', 'upwl', 'pjiq', 'jwgc', 'josd', 'rvrl', 'arsu', 'ugvq', 'vztn', 'auxv', 'xrvb', 'raak', 'omdl', 'imih', 'scch', 'uzuf', 'vlvs', 'cfzt', 'jlgv', 'zhrn', 'wxjk', 'qoln', 'rxvy', 'svhb', 'bnfo', 'ymck', 'xzur', 'hrlk', 'hubb', 'gwou', 'mtcr', 'olsp', 'sqnv', 'eknu', 'jxyo', 'jdsh', 'tznu', 'mnij', 'ddsp', 'bics', 'izpp', 'tcos', 'xpzh', 'jxhn', 'liml', 'cazi', 'iftf', 'viwn', 'zvur', 'xske', 'qinz', 'rfme', 'upvh', 'btbx', 'ekdq', 'aghd', 'ilfz', 'ollh', 'qbmt', 'aunh', 'jzeq', 'oycz', 'qkbn', 'agyw', 'ldfo', 'aemg', 'iphz', 'acpf', 'pgsp', 'sxll', 'goim', 'ozye', 'neeq', 'vooa', 'dkci', 'qvko', 'tcsb', 'yius', 'xhmf', 'itng', 'ptyx', 'uzrn', 'ysbr', 'vbhn', 'xnuo', 'pgub', 'kbls', 'vqcl', 'azde', 'neqf', 'fuvr', 'mjzk', 'qfpw', 'opoh', 'djir', 'cecs', 'fwid', 'yccl', 'owmn', 'khib', 'gzzp', 'sxfi', 'cika', 'cdcy', 'pros', 'zvnx', 'meyp', 'tqik', 'akmg', 'ussm', 'ztkg', 'ecok', 'oiij', 'yoiv', 'bsor', 'fdno', 'lsdr', 'gvjr', 'miza', 'pvgz', 'cpaz', 'haws', 'azxj', 'omdp', 'ccci', 'qvjq', 'mxup', 'krxy', 'oyvh', 'uacj', 'miwo', 'qrre', 'horq', 'iljw', 'ouym', 'fsao', 'qywk', 'lzvn', 'lfxe', 'rark', 'tejn', 'glgn', 'aitu', 'bovn', 'mykr', 'alkn', 'xiot', 'yjvg', 'oxbk', 'gjue', 'plur', 'hpmb', 'khau', 'vztb', 'fooy', 'bcku', 'ihtn', 'rgrx', 'vlim', 'hcjm', 'tuqm', 'btkl', 'dzas', 'chwj', 'hswz', 'gauu', 'ousp', 'pyyp', 'ssdg', 'knzp', 'ppql', 'dhka', 'hhmw', 'well', 'fsuz', 'ccrf', 'oevy', 'wbxd', 'yoea', 'dvzl', 'coop', 'hfft', 'rohv', 'qhna', 'imyn', 'hjuc', 'cver', 'gddk', 'bhuy', 'vxaj', 'kfmz', 'hddz', 'pzpj', 'tfmt', 'yosn', 'wdvw', 'towl', 'ufit', 'jtau', 'qzzk', 'qoyz', 'hkho', 'uiuo', 'huws', 'cary', 'oqph', 'fwgq', 'fwpf', 'yvqt', 'urzu', 'vcix', 'svay', 'fkbl', 'eikm', 'fvlf', 'qeoj', 'fhxp', 'yhub', 'wsls', 'cxvq', 'oaja', 'rzie', 'xehd', 'ogbs', 'mzmt', 'kfli', 'gyjp', 'pyrl', 'ltxk', 'jtou', 'ujul', 'ddld', 'zbht', 'iqgg', 'aozo', 'bmfh', 'pjct', 'ymcu', 'iphn', 'lrse', 'hjjk', 'qwzm', 'ftue', 'dgnj', 'ojvl', 'anpn', 'lskn', 'wgqk', 'fkts', 'nnnk', 'vant', 'tlua', 'pcqy', 'qwtz', 'zbzn', 'gcax', 'ehuz', 'ibjv', 'ukvv', 'jgmi', 'xtwd', 'ziya', 'emfc', 'ufef', 'qzxa', 'ezay', 'vlmc', 'yipz', 'arqo', 'zoew', 'iriu', 'iigv', 'onny', 'evhs', 'viqh', 'pvpp', 'ceoa', 'qyoq', 'misy', 'eysr', 'cdpg', 'msmg', 'rajt', 'vfwe', 'qeds', 'glwh', 'maqg', 'lqfy', 'bomh', 'ncod', 'wvoc', 'eviq', 'kxyk', 'ucbb', 'mjpz', 'uixl', 'lwdq', 'lyvy', 'wajn', 'ycxz', 'euoc', 'vwnj', 'qybm', 'lkcd', 'lwvn', 'hgws', 'troy', 'vugn', 'rlbo', 'ifxc', 'vewg', 'gkkg', 'dfeo', 'oqbd', 'nkha', 'sbyz', 'pwiz', 'tpip', 'gnjv', 'aeuu', 'tkir', 'qlks', 'pbtk', 'npjx', 'exeu', 'rypd', 'lufg', 'htti', 'itbs', 'gjwa', 'jtjc', 'xcvx', 'ewyz', 'dtst', 'hpkp', 'ghsj', 'wluj', 'diom', 'lctd', 'geld', 'qcrp', 'tiuj', 'ktae', 'jopj', 'gobr', 'hwov', 'rxra', 'qrkh', 'faix', 'rpfm', 'oios', 'iaph', 'wduq', 'nymh', 'jykb', 'nswx', 'sjrx', 'dmee', 'yrcg', 'wpxx', 'nqyo', 'ruoz', 'arwm', 'tvco', 'marz', 'cmqw', 'dcht', 'wkcy', 'cwtd', 'ofis', 'lfza', 'omsr', 'nwik', 'nrcz', 'mdiq', 'bnit', 'nxzk', 'gfzb', 'ztzw', 'kasf', 'isrt', 'fndx', 'zcgr', 'heac', 'kqze', 'odvt', 'wzfk', 'baes', 'hgdb', 'auxq', 'mnmw', 'iuhl', 'rrfl', 'mkrz', 'vqpe', 'uvfy', 'srmi', 'dmox', 'tvwx', 'nxpe', 'thdw', 'xprz', 'rhod', 'xnmv', 'kcni', 'roth', 'xbnm', 'kuey', 'rvim', 'cyap', 'zgev', 'vgdw', 'chtl', 'gtbb', 'xajj', 'rwxg', 'auzb', 'mefx', 'exof', 'ekoh', 'hdaq', 'qshb', 'tcuk', 'apyg', 'qflo', 'zyra', 'dlbz', 'mhjt', 'tbrf', 'qkkz', 'lacz', 'wekk', 'trbz', 'ioyw', 'cyrr', 'ecim', 'lybk', 'tfso', 'ulzt', 'dnou', 'fobz', 'dcum', 'tadn', 'qxlu', 'rqbj', 'gyjx', 'tojy', 'owhj', 'tljd', 'tznk', 'pfph', 'svkd', 'akwv', 'wdeu', 'ffvp', 'snzf', 'eaqj', 'vykq', 'drwf', 'popp', 'qdhr', 'munc', 'kngb', 'idfw', 'tufd', 'syzl', 'lxes', 'tdwt', 'oxiu', 'bhsb', 'dwws', 'nakm', 'zdbq', 'npzd', 'cvrc', 'twub', 'bmec', 'weuw', 'weky', 'npmw', 'hygf', 'tboi', 'shfd', 'gdns', 'bruz', 'vust', 'zmso', 'rfwg', 'bzma', 'ceuy', 'hcjx', 'vckt', 'kaup', 'vgub', 'txhf', 'ziro', 'qcgx', 'sbgu', 'naho', 'aahe', 'lrih', 'yodo', 'zhxh', 'kpxq', 'ukls', 'wjpt', 'fpxt', 'ilkq', 'ckhe', 'thxt', 'chlx', 'wool', 'auqo', 'gxjv', 'ivmn', 'hlcg', 'nsfs', 'qnbf', 'zvep', 'emzr', 'zjak', 'tkme', 'laji', 'jlny', 'dmky', 'ihzv', 'sdht', 'dxyi', 'tgdz', 'aqxs', 'dntp', 'tttl', 'mzmf', 'lnda', 'nsle', 'ovlu', 'iivn', 'rixn', 'bgfl', 'xfek', 'yppy', 'mkwf', 'vusx', 'noip', 'zcrj', 'ogzr', 'hghn', 'fazq', 'wgex', 'vzuq', 'xzpp', 'mofk', 'jjyj', 'mdne', 'kmwb', 'baia', 'zsiz', 'kceu', 'fvgb', 'nhkv', 'dtpe', 'xtyz', 'xbcs', 'vfzb', 'phrx', 'jrvb', 'nbby', 'oqlp', 'alqi', 'zmcg', 'jons', 'vbbg', 'zhvj', 'laxs', 'rvhx', 'hjey', 'dywq', 'wfph', 'mhsj', 'ocnn', 'epua', 'ivst', 'lryz', 'uevc', 'aima', 'qinm', 'ksvf', 'uxsl', 'yoez', 'dgwc', 'qtsj', 'taih', 'lxlb', 'nzqc', 'iqov', 'opua', 'ebsn', 'iwkn', 'mqrr', 'ulbb', 'cdpw', 'wnot', 'oafn', 'itwb', 'aaqd', 'zknz', 'bamx', 'hzgi', 'uwqg', 'mnzb', 'fhma', 'buoa', 'kfhn', 'fqzs', 'mluy', 'ksfo', 'kymh', 'aiho', 'wymf', 'xnuk', 'bkvl', 'xlsk', 'jitz', 'yrfq', 'nscb', 'ryka', 'twzp', 'apgj', 'ofrw', 'ysgs', 'eerk', 'gqrf', 'ouam', 'rhnk', 'focq', 'cgxs', 'lfic', 'bcib', 'likv', 'vmut', 'wuxh', 'yygq', 'xomn', 'gaih', 'aiov', 'wrqt', 'qfyp', 'clin', 'apkw', 'qymw', 'cjmx', 'wwke', 'xxxq', 'kgpw', 'vfng', 'upux', 'froh', 'yjmb', 'rjsn', 'kfrt', 'mxzb', 'zsxi', 'sbyx', 'dzwo', 'spwg', 'kfxo', 'bfuy', 'jatn', 'kxvl', 'nbea', 'yusw', 'jbpj', 'iyuu', 'qrlg', 'ozat', 'yfje', 'myhc', 'tetm', 'rrgg', 'kzlt', 'ktpt', 'lhra', 'kkmq', 'ttwf', 'jmlm', 'nmlc', 'frir', 'yatb', 'hmvw', 'cokz', 'bvdx', 'oavl', 'hvjt', 'nhli', 'yrkv', 'ljbs', 'wdsi', 'vwzg', 'yzrd', 'rymk', 'ikmv', 'iqxw', 'imjz', 'kqls', 'fqle', 'sjfo', 'livl', 'msxh', 'mmcy', 'vkpl', 'qhoh', 'ayte', 'zlze'}\n",
      "hmvwl is the root\n"
     ]
    }
   ],
   "source": [
    "with open('day7_input.txt') as f:\n",
    "    data = f.read().strip()\n",
    "\n",
    "towers = build_tree(data.split('\\n'))\n",
    "root = find_root(towers)\n",
    "\n",
    "names = [line[:4] for line in data.split('\\n')]\n",
    "print(set(names))\n",
    "\n",
    "print('{} is the root'.format(root.name))"
   ]
  },
  {
   "cell_type": "markdown",
   "metadata": {},
   "source": [
    "For **part two** ..."
   ]
  },
  {
   "cell_type": "code",
   "execution_count": 67,
   "metadata": {},
   "outputs": [
    {
     "name": "stdout",
     "output_type": "stream",
     "text": [
      "The incorrect weight should actually be 1853\n"
     ]
    }
   ],
   "source": [
    "from collections import defaultdict\n",
    "\n",
    "def corrected_weight(tower):\n",
    "    \n",
    "    \n",
    "    grouped = defaultdict(list)\n",
    "\n",
    "    for child in tower.children:\n",
    "        grouped[child.total_weight].append(child)\n",
    "        if not child.balanced:\n",
    "            return corrected_weight(child)\n",
    "\n",
    "    failure_node = min(grouped.values(), key=len)[0]\n",
    "    correct_node = max(grouped.values(), key=len)[0]\n",
    "    return correct_node.total_weight - failure_node.program_weight\n",
    "\n",
    "print('The incorrect weight should actually be {}'.format(corrected_weight(root)))"
   ]
  }
 ],
 "metadata": {
  "kernelspec": {
   "display_name": "Python 3",
   "language": "python",
   "name": "python3"
  },
  "language_info": {
   "codemirror_mode": {
    "name": "ipython",
    "version": 3
   },
   "file_extension": ".py",
   "mimetype": "text/x-python",
   "name": "python",
   "nbconvert_exporter": "python",
   "pygments_lexer": "ipython3",
   "version": "3.6.2"
  }
 },
 "nbformat": 4,
 "nbformat_minor": 2
}
