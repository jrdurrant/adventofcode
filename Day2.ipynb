{
 "cells": [
  {
   "cell_type": "markdown",
   "metadata": {},
   "source": [
    "# Advent of Code 2017: Day 2\n",
    "\n",
    "## Problem statement\n",
    "\n",
    "> The <font color='green'>spreadsheet</font> consists of <font color='green'>rows of apparently-random numbers</font>. To make sure the recovery process is on the right track, they need you to calculate the spreadsheet's checksum. <font color='blue'>For each row</font>, determine the <font color='red'>difference between the largest value and the smallest value</font>; the checksum is the <font color='red'>sum</font> of all of these differences.\n",
    "\n",
    "> **What is the checksum** for the spreadsheet in your puzzle input?\n",
    "\n",
    "## Breaking down the problem\n",
    "- **Task**: Find the checksum from a table of values\n",
    "- <font color='green'>Input</font>: A 'spreadsheet' consisting of rows of values - not all rows have the same number of values\n",
    "- <font color='blue'>Process the data</font>: Split the 'spreadsheet' into rows of values\n",
    "- <font color='red'>Row operations</font>: Find the difference between the smallest and largest values *per row*\n",
    "- <font color='red'>Sum</font>: Sum the differences of all rows"
   ]
  },
  {
   "cell_type": "markdown",
   "metadata": {},
   "source": [
    "## Implementation\n",
    "### Process the data\n",
    "\n",
    "The example given in the problem uses the spreadsheet:\n",
    "\n",
    "|   |   |   |   |\n",
    "|---|---|---|---|\n",
    "| 5 | 1 | 9 | 5 |\n",
    "| 7 | 5 | 3 |   |\n",
    "| 2 | 4 | 6 | 8 |"
   ]
  },
  {
   "cell_type": "code",
   "execution_count": 28,
   "metadata": {
    "collapsed": true
   },
   "outputs": [],
   "source": [
    "spreadsheet = '''\n",
    "5 1 9 5\n",
    "7 5 3\n",
    "2 4 6 8\n",
    "'''"
   ]
  },
  {
   "cell_type": "code",
   "execution_count": 29,
   "metadata": {
    "collapsed": true
   },
   "outputs": [],
   "source": [
    "def convert_to_integers(spreadsheet):\n",
    "    for row in spreadsheet.split('\\n'):\n",
    "        if len(row.split()) > 0:\n",
    "            yield [int(number) for number in row.split()]"
   ]
  },
  {
   "cell_type": "code",
   "execution_count": 30,
   "metadata": {},
   "outputs": [
    {
     "data": {
      "text/plain": [
       "[[5, 1, 9, 5], [7, 5, 3], [2, 4, 6, 8]]"
      ]
     },
     "execution_count": 30,
     "metadata": {},
     "output_type": "execute_result"
    }
   ],
   "source": [
    "list(convert_to_integers(spreadsheet))"
   ]
  },
  {
   "cell_type": "markdown",
   "metadata": {},
   "source": [
    "## Compute the checksum"
   ]
  },
  {
   "cell_type": "code",
   "execution_count": 31,
   "metadata": {
    "collapsed": true
   },
   "outputs": [],
   "source": [
    "def max_difference(sequence):\n",
    "    return max(sequence) - min(sequence)\n",
    "\n",
    "def checksum(spreadsheet, func):\n",
    "    return sum(func(row) for row in convert_to_integers(spreadsheet))"
   ]
  },
  {
   "cell_type": "markdown",
   "metadata": {},
   "source": [
    "## Check against test cases"
   ]
  },
  {
   "cell_type": "code",
   "execution_count": 32,
   "metadata": {
    "collapsed": true
   },
   "outputs": [],
   "source": [
    "assert checksum(spreadsheet, func=max_difference) == 18"
   ]
  },
  {
   "cell_type": "markdown",
   "metadata": {},
   "source": [
    "## Solve problem"
   ]
  },
  {
   "cell_type": "code",
   "execution_count": 33,
   "metadata": {},
   "outputs": [
    {
     "name": "stdout",
     "output_type": "stream",
     "text": [
      "32121\n"
     ]
    }
   ],
   "source": [
    "spreadsheet = '''\n",
    "121\t59\t141\t21\t120\t67\t58\t49\t22\t46\t56\t112\t53\t111\t104\t130\n",
    "1926\t1910\t760\t2055\t28\t2242\t146\t1485\t163\t976\t1842\t1982\t137\t1387\t162\t789\n",
    "4088\t258\t2060\t1014\t4420\t177\t4159\t194\t2794\t4673\t4092\t681\t174\t2924\t170\t3548\n",
    "191\t407\t253\t192\t207\t425\t580\t231\t197\t382\t404\t472\t164\t571\t500\t216\n",
    "4700\t1161\t168\t5398\t5227\t5119\t252\t2552\t4887\t5060\t1152\t3297\t847\t4525\t220\t262\n",
    "2417\t992\t1445\t184\t554\t2940\t209\t2574\t2262\t1911\t2923\t204\t2273\t2760\t506\t157\n",
    "644\t155\t638\t78\t385\t408\t152\t360\t588\t618\t313\t126\t172\t220\t217\t161\n",
    "227\t1047\t117\t500\t1445\t222\t29\t913\t190\t791\t230\t1281\t1385\t226\t856\t1380\n",
    "436\t46\t141\t545\t122\t86\t283\t124\t249\t511\t347\t502\t168\t468\t117\t94\n",
    "2949\t3286\t2492\t2145\t1615\t159\t663\t1158\t154\t939\t166\t2867\t141\t324\t2862\t641\n",
    "1394\t151\t90\t548\t767\t1572\t150\t913\t141\t1646\t154\t1351\t1506\t1510\t707\t400\n",
    "646\t178\t1228\t1229\t270\t167\t161\t1134\t193\t1312\t1428\t131\t1457\t719\t1288\t989\n",
    "1108\t1042\t93\t140\t822\t124\t1037\t1075\t125\t941\t1125\t298\t136\t94\t135\t711\n",
    "112\t2429\t1987\t2129\t2557\t1827\t477\t100\t78\t634\t352\t1637\t588\t77\t1624\t2500\n",
    "514\t218\t209\t185\t197\t137\t393\t555\t588\t569\t710\t537\t48\t309\t519\t138\n",
    "1567\t3246\t4194\t151\t3112\t903\t1575\t134\t150\t4184\t3718\t4077\t180\t4307\t4097\t1705\n",
    "'''\n",
    "\n",
    "print(checksum(spreadsheet, func=max_difference))"
   ]
  },
  {
   "cell_type": "markdown",
   "metadata": {},
   "source": [
    "For **part two**"
   ]
  },
  {
   "cell_type": "code",
   "execution_count": 34,
   "metadata": {
    "collapsed": true
   },
   "outputs": [],
   "source": [
    "import itertools\n",
    "\n",
    "def ordered_pairs(sequence): return itertools.combinations(sorted(sequence), 2)\n",
    "\n",
    "def evenly_divisible(sequence):\n",
    "    for first, second in ordered_pairs(sequence):\n",
    "        if second % first == 0:\n",
    "            return second // first"
   ]
  },
  {
   "cell_type": "code",
   "execution_count": 35,
   "metadata": {},
   "outputs": [
    {
     "name": "stdout",
     "output_type": "stream",
     "text": [
      "197\n"
     ]
    }
   ],
   "source": [
    "print(checksum(spreadsheet, func=evenly_divisible))"
   ]
  }
 ],
 "metadata": {
  "kernelspec": {
   "display_name": "Python 3",
   "language": "python",
   "name": "python3"
  },
  "language_info": {
   "codemirror_mode": {
    "name": "ipython",
    "version": 3
   },
   "file_extension": ".py",
   "mimetype": "text/x-python",
   "name": "python",
   "nbconvert_exporter": "python",
   "pygments_lexer": "ipython3",
   "version": "3.6.2"
  }
 },
 "nbformat": 4,
 "nbformat_minor": 2
}
