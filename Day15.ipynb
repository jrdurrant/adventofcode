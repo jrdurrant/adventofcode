{
 "cells": [
  {
   "cell_type": "markdown",
   "metadata": {},
   "source": [
    "# Advent of Code 2017: [Day 15](http://adventofcode.com/2017/day/15)\n",
    "\n",
    "## Problem statement\n",
    "\n",
    ">Here, you encounter a <font color='green'>pair of dueling generators</font>. The generators, called generator A and generator B, are trying to agree on a sequence of numbers. However, one of them is malfunctioning, and so the sequences don't always match.\n",
    "\n",
    ">As they do this, a judge waits for each of them to generate its next value, <font color='red'>compares the lowest 16 bits of both values</font>, and <font color='red'>keeps track of the number of times</font> those parts of <font color='red'>the values match</font>.\n",
    "\n",
    ">The generators both work on the same principle. To create its next value, a generator will <font color='blue'>take the previous value it produced, multiply it by a factor</font> (generator A uses 16807; generator B uses 48271), and then <font color='blue'>keep the remainder of dividing that resulting product by 2147483647</font>. That final <font color='blue'>remainder is the value it produces next</font>.\n",
    "\n",
    ">To calculate each generator's first value, it instead uses a <font color='green'>specific starting value</font> as its \"previous value\" (as listed in your puzzle input).\n",
    "\n",
    ">For example, suppose that for starting values, generator A uses 65, while generator B uses 8921. Then, the first five pairs of generated values are:\n",
    "\n",
    ">|  Generator A  |  Generator B  |\n",
    " |---------:|---------:|\n",
    " |1092455   |430625591 |\n",
    " |1181022009| 1233683848|\n",
    " |245556042 | 1431495498|\n",
    " |1744312007|  137874439|\n",
    " |1352636452|  285222916|\n",
    "\n",
    ">In binary, these pairs are (with generator A's value first in each pair):\n",
    "\n",
    ">|   |     |                  |                      |\n",
    " |---|-----|------------------|----------------------|\n",
    " |  1|Gen A|`0000000000010000`|**`1010101101100111`**|\n",
    " |   |Gen B|`0001100110101010`|**`1101001100110111`**|\n",
    " |  2|Gen A|`0100011001100100`|**`1111011100111001`**|\n",
    " |   |Gen B|`0100100110001000`|**`1000010110001000`**|\n",
    " |  3|Gen A|`0000111010100010`|**`1110001101001010`**|\n",
    " |   |Gen B|`0101010101010010`|**`1110001101001010`**|\n",
    " |  4|Gen A|`0110011111111000`|**`0001011011000111`**|\n",
    " |   |Gen B|`0000100000110111`|**`1100110000000111`**|\n",
    " |  5|Gen A|`0101000010011111`|**`1001100000100100`**|\n",
    " |   |Gen B|`0001000100000000`|**`0010100000000100`**|\n",
    "\n",
    ">Here, you can see that the lowest (here, rightmost) 16 bits of the third value match: `1110001101001010`. Because of this one match, after processing these five pairs, the judge would have added only 1 to its total.\n",
    "\n",
    ">To get a significant sample, the judge would like to <font color='blue'>consider 40 million pairs</font>. (In the example above, the judge would eventually find a total of 588 pairs that match in their lowest 16 bits.)\n",
    "\n",
    ">**After 40 million pairs, what is the judge's final count?**\n",
    "\n",
    "## Breaking down the problem\n",
    "- **Task**: \n",
    "- <font color='green'>Input</font>:\n",
    "- <font color='blue'>Process the data</font>:\n",
    "- <font color='red'>Compute</font>:"
   ]
  },
  {
   "cell_type": "markdown",
   "metadata": {},
   "source": [
    "## Implementation"
   ]
  },
  {
   "cell_type": "code",
   "execution_count": 19,
   "metadata": {
    "collapsed": true
   },
   "outputs": [],
   "source": [
    "def generator(initial, factor, divisor=(2**31 - 1)):\n",
    "    value = initial\n",
    "    while True:\n",
    "        value = (value * factor) % divisor\n",
    "        yield value\n",
    "        \n",
    "def judge(gen_A, gen_B, pairs, mask_size=16):\n",
    "    bit_mask = 2**mask_size - 1\n",
    "\n",
    "    total = 0\n",
    "    for value_A, value_B, _ in zip(gen_A, gen_B, range(pairs)):\n",
    "        total += (value_A & bit_mask) == (value_B & bit_mask)\n",
    "        \n",
    "    return total"
   ]
  },
  {
   "cell_type": "markdown",
   "metadata": {},
   "source": [
    "## Check against test cases"
   ]
  },
  {
   "cell_type": "code",
   "execution_count": 20,
   "metadata": {},
   "outputs": [
    {
     "name": "stdout",
     "output_type": "stream",
     "text": [
      "588\n"
     ]
    }
   ],
   "source": [
    "gen_A = generator(65, 16807)\n",
    "gen_B = generator(8921, 48271)\n",
    "\n",
    "print(judge(gen_A, gen_B, pairs=40_000_000))"
   ]
  },
  {
   "cell_type": "markdown",
   "metadata": {},
   "source": [
    "## Solve problem"
   ]
  },
  {
   "cell_type": "code",
   "execution_count": 21,
   "metadata": {},
   "outputs": [
    {
     "name": "stdout",
     "output_type": "stream",
     "text": [
      "592\n"
     ]
    }
   ],
   "source": [
    "gen_A = generator(277, 16807)\n",
    "gen_B = generator(349, 48271)\n",
    "\n",
    "print(judge(gen_A, gen_B, pairs=40_000_000))"
   ]
  },
  {
   "cell_type": "code",
   "execution_count": 22,
   "metadata": {
    "collapsed": true
   },
   "outputs": [],
   "source": [
    "def only_multiples(generator, n):\n",
    "    for value in generator:\n",
    "        if value % n == 0:\n",
    "            yield value"
   ]
  },
  {
   "cell_type": "code",
   "execution_count": 23,
   "metadata": {},
   "outputs": [
    {
     "name": "stdout",
     "output_type": "stream",
     "text": [
      "320\n"
     ]
    }
   ],
   "source": [
    "gen_A = only_multiples(generator(277, 16807), n=4)\n",
    "gen_B = only_multiples(generator(349, 48271), n=8)\n",
    "\n",
    "print(judge(gen_A, gen_B, pairs=5_000_000))"
   ]
  }
 ],
 "metadata": {
  "kernelspec": {
   "display_name": "Python 3",
   "language": "python",
   "name": "python3"
  },
  "language_info": {
   "codemirror_mode": {
    "name": "ipython",
    "version": 3
   },
   "file_extension": ".py",
   "mimetype": "text/x-python",
   "name": "python",
   "nbconvert_exporter": "python",
   "pygments_lexer": "ipython3",
   "version": "3.6.2"
  }
 },
 "nbformat": 4,
 "nbformat_minor": 2
}
