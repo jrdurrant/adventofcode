{
 "cells": [
  {
   "cell_type": "markdown",
   "metadata": {},
   "source": [
    "# Advent of Code 2017: Day 4\n",
    "\n",
    "## Problem statement\n",
    "\n",
    ">A new system policy has been put in place that requires all accounts to use a passphrase instead of simply a password. A passphrase consists of <font color='green'>a series of words (lowercase letters) separated by spaces</font>.\n",
    "\n",
    ">To ensure security, a valid passphrase must contain <font color='blue'>no duplicate words</font>.\n",
    "\n",
    ">For example:\n",
    "\n",
    ">- '`aa bb cc dd ee`' is valid.\n",
    "- '`aa bb cc dd aa`' is not valid - the word aa appears more than once.\n",
    "- '`aa bb cc dd aaa`' is valid - '`aa`' and '`aaa`' count as different words.\n",
    "\n",
    ">The system's full <font color='green'>passphrase list</font> is available as your puzzle input. **<font color='red'>How many</font> passphrases are valid?**\n",
    "\n",
    "## Breaking down the problem\n",
    "- **Task**: Count the number of valid passphrases given a passphrase list\n",
    "- <font color='green'>Input</font>: A list of passphrases (strings)\n",
    "- <font color='blue'>Process the data</font>: Filter out passphrases with duplicate words\n",
    "- <font color='red'>Compute</font>: Find the length of the remaining passphrase list"
   ]
  },
  {
   "cell_type": "markdown",
   "metadata": {},
   "source": [
    "## Implementation"
   ]
  },
  {
   "cell_type": "code",
   "execution_count": 34,
   "metadata": {
    "collapsed": true
   },
   "outputs": [],
   "source": [
    "def valid_passphrase(phrase):\n",
    "    words = phrase.split()\n",
    "    return len(set(words)) == len(words)"
   ]
  },
  {
   "cell_type": "markdown",
   "metadata": {},
   "source": [
    "## Check against test cases"
   ]
  },
  {
   "cell_type": "code",
   "execution_count": 35,
   "metadata": {},
   "outputs": [
    {
     "name": "stdout",
     "output_type": "stream",
     "text": [
      "2\n"
     ]
    }
   ],
   "source": [
    "phrase_list = [\n",
    "    'aa bb cc dd ee',\n",
    "    'aa bb cc dd aa',\n",
    "    'aa bb cc dd aaa'\n",
    "]\n",
    "\n",
    "print(len([passphrase for passphrase in phrase_list\n",
    "           if valid_passphrase(passphrase)]))"
   ]
  },
  {
   "cell_type": "markdown",
   "metadata": {},
   "source": [
    "## Solve problem\n",
    "### Load data"
   ]
  },
  {
   "cell_type": "code",
   "execution_count": 36,
   "metadata": {},
   "outputs": [
    {
     "name": "stdout",
     "output_type": "stream",
     "text": [
      "0: sayndz zfxlkl attjtww cti sokkmty brx fhh suelqbp\n",
      "1: xmuf znkhaes pggrlp zia znkhaes znkhaes\n",
      "2: nti rxr bogebb zdwrin\n",
      "3: sryookh unrudn zrkz jxhrdo gctlyz\n",
      "4: bssqn wbmdc rigc zketu ketichh enkixg bmdwc stnsdf jnz mqovwg ixgken\n"
     ]
    }
   ],
   "source": [
    "def load_data():\n",
    "    with open('day4_input.txt') as f:\n",
    "        return [phrase\n",
    "                for phrase in f.read().split('\\n')\n",
    "                if len(phrase) > 0]\n",
    "    \n",
    "phrase_list = load_data()\n",
    "\n",
    "for i, phrase in zip(range(5), phrase_list):\n",
    "    print('{}: {}'.format(i, phrase))"
   ]
  },
  {
   "cell_type": "markdown",
   "metadata": {},
   "source": [
    "Compute the answer"
   ]
  },
  {
   "cell_type": "code",
   "execution_count": 37,
   "metadata": {},
   "outputs": [
    {
     "name": "stdout",
     "output_type": "stream",
     "text": [
      "383\n"
     ]
    }
   ],
   "source": [
    "print(len([passphrase for passphrase in phrase_list\n",
    "           if valid_passphrase(passphrase)]))"
   ]
  },
  {
   "cell_type": "markdown",
   "metadata": {},
   "source": [
    "For **part two** ..."
   ]
  },
  {
   "cell_type": "code",
   "execution_count": 38,
   "metadata": {
    "collapsed": true
   },
   "outputs": [],
   "source": [
    "class Password(str):\n",
    "    def __hash__(self):\n",
    "        return hash(str(sorted(self)))\n",
    "    \n",
    "    def __eq__(self, other):\n",
    "        return sorted(self) == sorted(other)\n",
    "    \n",
    "def valid_passphrase(phrase, accept_anagrams=False):\n",
    "    words = phrase.split()\n",
    "    \n",
    "    if accept_anagrams:\n",
    "        words = [Password(word) for word in words]\n",
    "\n",
    "    return len(set(words)) == len(words)"
   ]
  },
  {
   "cell_type": "code",
   "execution_count": 39,
   "metadata": {},
   "outputs": [
    {
     "name": "stdout",
     "output_type": "stream",
     "text": [
      "383\n"
     ]
    }
   ],
   "source": [
    "print(len([passphrase for passphrase in phrase_list\n",
    "           if valid_passphrase(passphrase)]))"
   ]
  },
  {
   "cell_type": "code",
   "execution_count": 40,
   "metadata": {},
   "outputs": [
    {
     "name": "stdout",
     "output_type": "stream",
     "text": [
      "265\n"
     ]
    }
   ],
   "source": [
    "print(len([passphrase for passphrase in phrase_list\n",
    "           if valid_passphrase(passphrase, accept_anagrams=True)]))"
   ]
  }
 ],
 "metadata": {
  "kernelspec": {
   "display_name": "Python 3",
   "language": "python",
   "name": "python3"
  },
  "language_info": {
   "codemirror_mode": {
    "name": "ipython",
    "version": 3
   },
   "file_extension": ".py",
   "mimetype": "text/x-python",
   "name": "python",
   "nbconvert_exporter": "python",
   "pygments_lexer": "ipython3",
   "version": "3.6.2"
  }
 },
 "nbformat": 4,
 "nbformat_minor": 2
}
