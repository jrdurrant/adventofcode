{
 "cells": [
  {
   "cell_type": "markdown",
   "metadata": {},
   "source": [
    "# Advent of Code 2018: [Day 1](http://adventofcode.com/2018/day/1)\n",
    "\n",
    "## Problem statement\n",
    "\n",
    "<p>\"We've detected some temporal anomalies,\" one of Santa's Elves at the <span title=\"It's about as big on the inside as you expected.\">Temporal Anomaly Research and Detection Instrument Station</span> tells you. She sounded pretty worried when she called you down here. \"At 500-year intervals into the past, someone has been changing Santa's history!\"</p>\n",
    "<p>\"The good news is that the changes won't propagate to our time stream for another 25 days, and we have a device\" - she attaches something to your wrist - \"that will let you fix the changes with no such propagation delay. It's configured to send you 500 years further into the past every few days; that was the best we could do on such short notice.\"</p>\n",
    "<p>\"The bad news is that we are detecting roughly <em>fifty</em> anomalies throughout time; the device will indicate fixed anomalies with <em class=\"star\">stars</em>. The other bad news is that we only have one device and you're the best person for the job! Good lu--\" She taps a button on the device and you suddenly feel like you're falling. To save Christmas, you need to get all <em class=\"star\">fifty stars</em> by December 25th.</p>\n",
    "<p>Collect stars by solving puzzles.  Two puzzles will be made available on each day in the advent calendar; the second puzzle is unlocked when you complete the first.  Each puzzle grants <em class=\"star\">one star</em>. Good luck!</p>\n",
    "<p>After feeling like you've been falling for a few minutes, you look at the device's tiny screen. \"Error: Device must be calibrated before first use. Frequency drift detected. Cannot maintain destination lock.\" Below the message, the device shows a sequence of changes in frequency (your puzzle input). A value like <code>+6</code> means the current frequency increases by <code>6</code>; a value like <code>-3</code> means the current frequency decreases by <code>3</code>.</p>\n",
    "<p>For example, if the device displays frequency changes of <code>+1, -2, +3, +1</code>, then starting from a frequency of zero, the following changes would occur:</p>\n",
    "<ul>\n",
    "<li>Current frequency <code>&nbsp;0</code>, change of <code>+1</code>; resulting frequency <code>&nbsp;1</code>.</li>\n",
    "<li>Current frequency <code>&nbsp;1</code>, change of <code>-2</code>; resulting frequency <code>-1</code>.</li>\n",
    "<li>Current frequency <code>-1</code>, change of <code>+3</code>; resulting frequency <code>&nbsp;2</code>.</li>\n",
    "<li>Current frequency <code>&nbsp;2</code>, change of <code>+1</code>; resulting frequency <code>&nbsp;3</code>.</li>\n",
    "</ul>\n",
    "<p>In this example, the resulting frequency is <code>3</code>.</p>\n",
    "<p>Here are other example situations:</p>\n",
    "<ul>\n",
    "<li><code>+1, +1, +1</code> results in <code>&nbsp;3</code></li>\n",
    "<li><code>+1, +1, -2</code> results in <code>&nbsp;0</code></li>\n",
    "<li><code>-1, -2, -3</code> results in <code>-6</code></li>\n",
    "</ul>\n",
    "<p>Starting with a frequency of zero, <em>what is the resulting frequency</em> after all of the changes in frequency have been applied?</p>\n",
    "\n",
    "\n",
    "## Breaking down the problem\n",
    "- **Task**:\n",
    "- <font color='green'>Input</font>:\n",
    "- <font color='blue'>Process the data</font>:\n",
    "- <font color='red'>Compute</font>:"
   ]
  },
  {
   "cell_type": "markdown",
   "metadata": {},
   "source": [
    "## Implementation"
   ]
  },
  {
   "cell_type": "code",
   "execution_count": 34,
   "metadata": {},
   "outputs": [],
   "source": [
    "def input_from_file(path):\n",
    "    with open(path, 'r') as f:\n",
    "        return (line.strip() for line in f.readlines())"
   ]
  },
  {
   "cell_type": "code",
   "execution_count": 35,
   "metadata": {},
   "outputs": [],
   "source": [
    "def apply_frequency_changes(frequency_changes):\n",
    "    return sum(map(int, frequency_changes))"
   ]
  },
  {
   "cell_type": "markdown",
   "metadata": {},
   "source": [
    "## Check against test cases"
   ]
  },
  {
   "cell_type": "code",
   "execution_count": 36,
   "metadata": {},
   "outputs": [],
   "source": [
    "def test_case(string):\n",
    "    return apply_frequency_changes(string.split(', '))\n",
    "\n",
    "assert test_case('+1, -2, +3, +1') == 3\n",
    "assert test_case('+1, +1, +1') == 3\n",
    "assert test_case('+1, +1, -2') == 0\n",
    "assert test_case('-1, -2, -3') == -6"
   ]
  },
  {
   "cell_type": "markdown",
   "metadata": {},
   "source": [
    "## Solve problem"
   ]
  },
  {
   "cell_type": "code",
   "execution_count": 37,
   "metadata": {},
   "outputs": [
    {
     "name": "stdout",
     "output_type": "stream",
     "text": [
      "490\n"
     ]
    }
   ],
   "source": [
    "print(apply_frequency_changes(input_from_file('day1_input.txt')))"
   ]
  },
  {
   "cell_type": "markdown",
   "metadata": {},
   "source": [
    "# Part 2\n",
    "\n",
    "## Problem statement\n",
    "\n",
    "<p>You notice that the device repeats the same frequency change list over and over. To calibrate the device, you need to find the first frequency it reaches <em>twice</em>.</p>\n",
    "<p>For example, using the same list of changes above, the device would loop as follows:</p>\n",
    "<ul>\n",
    "<li>Current frequency <code>&nbsp;0</code>, change of <code>+1</code>; resulting frequency <code>&nbsp;1</code>.</li>\n",
    "<li>Current frequency <code>&nbsp;1</code>, change of <code>-2</code>; resulting frequency <code>-1</code>.</li>\n",
    "<li>Current frequency <code>-1</code>, change of <code>+3</code>; resulting frequency <code>&nbsp;2</code>.</li>\n",
    "<li>Current frequency <code>&nbsp;2</code>, change of <code>+1</code>; resulting frequency <code>&nbsp;3</code>.</li>\n",
    "<li>(At this point, the device continues from the start of the list.)</li>\n",
    "<li>Current frequency <code>&nbsp;3</code>, change of <code>+1</code>; resulting frequency <code>&nbsp;4</code>.</li>\n",
    "<li>Current frequency <code>&nbsp;4</code>, change of <code>-2</code>; resulting frequency <code>&nbsp;2</code>, which has already been seen.</li>\n",
    "</ul>\n",
    "<p>In this example, the first frequency reached twice is <code>2</code>. Note that your device might need to repeat its list of frequency changes many times before a duplicate frequency is found, and that duplicates might be found while in the middle of processing the list.</p>\n",
    "<p>Here are other examples:</p>\n",
    "<ul>\n",
    "<li><code>+1, -1</code> first reaches <code>0</code> twice.</li>\n",
    "<li><code>+3, +3, +4, -2, -4</code> first reaches <code>10</code> twice.</li>\n",
    "<li><code>-6, +3, +8, +5, -6</code> first reaches <code>5</code> twice.</li>\n",
    "<li><code>+7, +7, -2, -7, -4</code> first reaches <code>14</code> twice.</li>\n",
    "</ul>\n",
    "<p><em>What is the first frequency your device reaches twice?</em></p>"
   ]
  },
  {
   "cell_type": "markdown",
   "metadata": {},
   "source": [
    "## Implementation"
   ]
  },
  {
   "cell_type": "code",
   "execution_count": 38,
   "metadata": {},
   "outputs": [],
   "source": [
    "from itertools import accumulate, cycle, dropwhile\n",
    "\n",
    "\n",
    "def apply_frequency_changes(frequency_changes, initial_frequency=0):\n",
    "    yield initial_frequency\n",
    "    yield from accumulate(cycle(map(int, frequency_changes)))\n",
    "\n",
    "    \n",
    "def calibrate(frequency_changes):\n",
    "    seen = set()\n",
    "\n",
    "    for frequency in apply_frequency_changes(frequency_changes):\n",
    "        if frequency in seen: return frequency\n",
    "        else: seen.add(frequency)"
   ]
  },
  {
   "cell_type": "code",
   "execution_count": 39,
   "metadata": {},
   "outputs": [],
   "source": [
    "def test_case(string):\n",
    "    return calibrate(string.split(', '))\n",
    "\n",
    "assert test_case('+1, -2, +3, +1') == 2\n",
    "assert test_case('+1, -1') == 0\n",
    "assert test_case('+3, +3, +4, -2, -4') == 10\n",
    "assert test_case('-6, +3, +8, +5, -6') == 5\n",
    "assert test_case('+7, +7, -2, -7, -4') == 14"
   ]
  },
  {
   "cell_type": "code",
   "execution_count": 40,
   "metadata": {},
   "outputs": [
    {
     "name": "stdout",
     "output_type": "stream",
     "text": [
      "70357\n"
     ]
    }
   ],
   "source": [
    "print(calibrate(input_from_file('day1_input.txt')))"
   ]
  }
 ],
 "metadata": {
  "kernelspec": {
   "display_name": "Python 3",
   "language": "python",
   "name": "python3"
  },
  "language_info": {
   "codemirror_mode": {
    "name": "ipython",
    "version": 3
   },
   "file_extension": ".py",
   "mimetype": "text/x-python",
   "name": "python",
   "nbconvert_exporter": "python",
   "pygments_lexer": "ipython3",
   "version": "3.6.6"
  }
 },
 "nbformat": 4,
 "nbformat_minor": 2
}
