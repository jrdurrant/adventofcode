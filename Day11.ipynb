{
 "cells": [
  {
   "cell_type": "markdown",
   "metadata": {},
   "source": [
    "# Advent of Code 2017: [Day 11](http://adventofcode.com/2017/day/11)\n",
    "\n",
    "## Problem statement\n",
    "\n",
    ">Crossing the bridge, you've barely reached the other side of the stream when a program comes up to you, clearly in distress.  \"It's my child process,\" she says, \"he's gotten lost in an infinite grid!\"\n",
    "\n",
    ">Fortunately for her, you have plenty of experience with infinite grids.\n",
    "\n",
    ">Unfortunately for you, it's a hex grid.\n",
    "\n",
    ">The hexagons (\"hexes\") in this grid are aligned such that adjacent hexes can be found to the north, northeast, southeast, south, southwest, and northwest:\n",
    "\n",
    ">  \\ n  /\n",
    "\n",
    ">nw +--+ ne\n",
    "\n",
    ">  /    \\\n",
    "\n",
    ">-+      +-\n",
    "\n",
    ">  \\    /\n",
    "\n",
    ">sw +--+ se\n",
    "\n",
    ">  / s  \\\n",
    "\n",
    ">You have the path the child process took. Starting where he started, you need to determine the fewest number of steps required to reach him. (A \"step\" means to move from the hex you are in to any adjacent hex.)\n",
    "\n",
    ">For example:\n",
    "\n",
    ">ne,ne,ne is 3 steps away.\n",
    "\n",
    ">ne,ne,sw,sw is 0 steps away (back where you started).\n",
    "\n",
    ">ne,ne,s,s is 2 steps away (se,se).\n",
    "\n",
    ">se,sw,se,sw,sw is 3 steps away (s,s,sw).\n",
    "\n",
    "## Breaking down the problem\n",
    "- **Task**:\n",
    "- <font color='green'>Input</font>:\n",
    "- <font color='blue'>Process the data</font>:\n",
    "- <font color='red'>Compute</font>:"
   ]
  },
  {
   "cell_type": "markdown",
   "metadata": {},
   "source": [
    "## Implementation"
   ]
  },
  {
   "cell_type": "code",
   "execution_count": 191,
   "metadata": {
    "collapsed": true
   },
   "outputs": [],
   "source": [
    "equivalent = {( 'n', 'se'): ['ne'],\n",
    "              ('ne',  's'): ['se'],\n",
    "              ('se', 'sw'):  ['s'],\n",
    "              ('nw',  's'): ['sw'],\n",
    "              ( 'n', 'sw'): ['nw'],\n",
    "              ('ne', 'nw'):  ['n'],\n",
    "              ( 'n',  's'):     [],\n",
    "              ('ne', 'sw'):     [],\n",
    "              ('nw', 'se'):     []}"
   ]
  },
  {
   "cell_type": "code",
   "execution_count": 192,
   "metadata": {
    "collapsed": true
   },
   "outputs": [],
   "source": [
    "def distance(moves):\n",
    "    changed = True\n",
    "    while changed:\n",
    "        changed = False\n",
    "\n",
    "        for pattern, replacement in equivalent.items():\n",
    "            if all(direction in moves for direction in pattern):\n",
    "                for direction in pattern:\n",
    "                    moves.remove(direction)\n",
    "                moves.extend(replacement)\n",
    "                changed = True\n",
    "\n",
    "    return len(moves)"
   ]
  },
  {
   "cell_type": "markdown",
   "metadata": {},
   "source": [
    "## Check against test cases"
   ]
  },
  {
   "cell_type": "code",
   "execution_count": 193,
   "metadata": {
    "collapsed": true
   },
   "outputs": [],
   "source": [
    "assert distance('ne,ne,ne'.split(',')) == 3\n",
    "assert distance('ne,ne,sw,sw'.split(',')) == 0\n",
    "assert distance('ne,ne,s,s'.split(',')) == 2\n",
    "assert distance('se,sw,se,sw,sw'.split(',')) == 3"
   ]
  },
  {
   "cell_type": "markdown",
   "metadata": {},
   "source": [
    "## Solve problem"
   ]
  },
  {
   "cell_type": "code",
   "execution_count": 194,
   "metadata": {
    "scrolled": false
   },
   "outputs": [
    {
     "name": "stdout",
     "output_type": "stream",
     "text": [
      "773\n"
     ]
    }
   ],
   "source": [
    "with open('day11_input.txt') as f:\n",
    "    moves = f.read().strip().split(',')\n",
    "    \n",
    "print(distance(moves))"
   ]
  },
  {
   "cell_type": "markdown",
   "metadata": {},
   "source": [
    "# Part 2"
   ]
  },
  {
   "cell_type": "code",
   "execution_count": 195,
   "metadata": {
    "scrolled": false
   },
   "outputs": [
    {
     "name": "stdout",
     "output_type": "stream",
     "text": [
      " 773 1560\n"
     ]
    }
   ],
   "source": [
    "with open('day11_input.txt') as f:\n",
    "    moves = f.read().strip().split(',')\n",
    "    \n",
    "def track_distance(moves):\n",
    "    completed_moves = []\n",
    "    for move in moves:\n",
    "        completed_moves.append(move)\n",
    "        yield distance(completed_moves)\n",
    "\n",
    "distances = list(track_distance(moves))\n",
    "print(distances[-1], max(distances))"
   ]
  }
 ],
 "metadata": {
  "kernelspec": {
   "display_name": "Python 3",
   "language": "python",
   "name": "python3"
  },
  "language_info": {
   "codemirror_mode": {
    "name": "ipython",
    "version": 3
   },
   "file_extension": ".py",
   "mimetype": "text/x-python",
   "name": "python",
   "nbconvert_exporter": "python",
   "pygments_lexer": "ipython3",
   "version": "3.6.2"
  }
 },
 "nbformat": 4,
 "nbformat_minor": 2
}
